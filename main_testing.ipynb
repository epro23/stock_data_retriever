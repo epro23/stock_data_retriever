{
 "cells": [
  {
   "cell_type": "markdown",
   "metadata": {},
   "source": [
    "A good source from... someone at Yale?\n",
    "\n",
    "https://zoo.cs.yale.edu/classes/cs458/lectures/yfinance.html\n",
    "\n",
    "https://finance.yahoo.com/quote/AAPL/key-statistics/"
   ]
  },
  {
   "cell_type": "code",
   "execution_count": 2,
   "metadata": {},
   "outputs": [],
   "source": [
    "import yfinance as yf\n",
    "import pandas as pd\n",
    "import plotly as py\n",
    "import matplotlib.pyplot as plt\n",
    "import plotly.express as px\n",
    "import plotly.io as pio\n",
    "import numpy as np\n",
    "import seaborn as sns\n",
    "import datetime as dt\n",
    "import warnings\n",
    "from plotly.subplots import make_subplots\n",
    "import plotly.graph_objects as go\n",
    "warnings.filterwarnings(\"ignore\", category=FutureWarning)"
   ]
  },
  {
   "cell_type": "markdown",
   "metadata": {},
   "source": [
    "### Data Retrieval & Basic Manipulation"
   ]
  },
  {
   "cell_type": "code",
   "execution_count": 3,
   "metadata": {},
   "outputs": [],
   "source": [
    "def fetch_stock_data(tickers: list, start_date, end_date, interval=\"60m\"):\n",
    "    \"\"\"\n",
    "    Fetch stock data for given tickers and date range.\n",
    "    \n",
    "    Args:\n",
    "        tickers (list): List of stock ticker symbols (e.g., ['AAPL', 'MSFT']).\n",
    "        start_date (str): Start date (e.g., '2024-10-01').\n",
    "        end_date (str): End date (e.g., '2024-10-31').\n",
    "        interval (str): Interval for data download, valid entries: \n",
    "            ‘1m’, ‘2m’, ‘5m’, ‘15m’, ‘30m’, ‘60m’, ‘90m’, ‘1d’, ‘5d’, ‘1wk’, ‘1mo’, ‘3mo’\n",
    "            recommended: 60m, 1d, 1wk, 1mo.\n",
    "    \n",
    "    Returns:\n",
    "        dict: Dictionary with ticker keys and their data as values, and a list of tickers.\n",
    "    \"\"\"\n",
    "    stock_data = {}\n",
    "\n",
    "    for ticker in tickers:\n",
    "        # Download data for each ticker\n",
    "        data = yf.download(ticker, start=start_date, end=end_date, interval=interval, rounding=True)\n",
    "        data = data.drop(columns=[\"Close\", \"Volume\"], errors=\"ignore\")\n",
    "        stock_data[f\"{ticker}_data\"] = data\n",
    "        stock_data[\"tickers\"] = tickers\n",
    "        \n",
    "    return stock_data\n",
    "\n",
    "def correct_stock_data(stock_data):\n",
    "    \"\"\"\n",
    "    Correct stock data by removing multi-index levels and renaming index column.\n",
    "    \n",
    "    Args:\n",
    "        stock_data (dict): Dictionary of stock data with ticker keys.\n",
    "    \"\"\"\n",
    "    for ticker_key, dataframe in stock_data.items():\n",
    "        if ticker_key == \"tickers\":\n",
    "            continue\n",
    "        dataframe = dataframe.droplevel(\"Ticker\", axis=1)\n",
    "        dataframe.reset_index(inplace=True)\n",
    "        dataframe.columns.name = \"Data Index\"\n",
    "        if \"Datetime\" in dataframe.columns:\n",
    "            dataframe[\"Datetime\"] = pd.to_datetime(dataframe[\"Datetime\"]).dt.strftime('%Y-%m-%d %H:%M')\n",
    "        stock_data[ticker_key] = dataframe\n",
    "\n",
    "    return stock_data\n",
    "\n",
    "def format_large_number(value):\n",
    "    \"\"\"Helper function to format large numbers for display.\"\"\"\n",
    "    if value is None:\n",
    "        return None\n",
    "    elif value >= 1e9:\n",
    "        return f\"{value / 1e9:.2f}B\"\n",
    "    elif value >= 1e6:\n",
    "        return f\"{value / 1e6:.2f}M\"\n",
    "    elif value >= 1e3:\n",
    "        return f\"{value / 1e3:.2f}K\"\n",
    "    else:\n",
    "        return f\"{value:.2f}\""
   ]
  },
  {
   "cell_type": "code",
   "execution_count": null,
   "metadata": {},
   "outputs": [],
   "source": [
    "data = fetch_stock_data(['AAPL', 'MSFT'], '2024-10-01', '2024-11-30', interval='1d')\n",
    "correct_stock_data(data)"
   ]
  },
  {
   "cell_type": "code",
   "execution_count": 9,
   "metadata": {},
   "outputs": [
    {
     "data": {
      "text/html": [
       "<div>\n",
       "<style scoped>\n",
       "    .dataframe tbody tr th:only-of-type {\n",
       "        vertical-align: middle;\n",
       "    }\n",
       "\n",
       "    .dataframe tbody tr th {\n",
       "        vertical-align: top;\n",
       "    }\n",
       "\n",
       "    .dataframe thead th {\n",
       "        text-align: right;\n",
       "    }\n",
       "</style>\n",
       "<table border=\"1\" class=\"dataframe\">\n",
       "  <thead>\n",
       "    <tr style=\"text-align: right;\">\n",
       "      <th>Data Index</th>\n",
       "      <th>Date</th>\n",
       "      <th>Adj Close</th>\n",
       "      <th>High</th>\n",
       "      <th>Low</th>\n",
       "      <th>Open</th>\n",
       "    </tr>\n",
       "  </thead>\n",
       "  <tbody>\n",
       "    <tr>\n",
       "      <th>0</th>\n",
       "      <td>2024-10-01</td>\n",
       "      <td>225.96</td>\n",
       "      <td>229.65</td>\n",
       "      <td>223.74</td>\n",
       "      <td>229.52</td>\n",
       "    </tr>\n",
       "    <tr>\n",
       "      <th>1</th>\n",
       "      <td>2024-10-02</td>\n",
       "      <td>226.53</td>\n",
       "      <td>227.37</td>\n",
       "      <td>223.02</td>\n",
       "      <td>225.89</td>\n",
       "    </tr>\n",
       "    <tr>\n",
       "      <th>2</th>\n",
       "      <td>2024-10-03</td>\n",
       "      <td>225.42</td>\n",
       "      <td>226.81</td>\n",
       "      <td>223.32</td>\n",
       "      <td>225.14</td>\n",
       "    </tr>\n",
       "    <tr>\n",
       "      <th>3</th>\n",
       "      <td>2024-10-04</td>\n",
       "      <td>226.55</td>\n",
       "      <td>228.00</td>\n",
       "      <td>224.13</td>\n",
       "      <td>227.90</td>\n",
       "    </tr>\n",
       "    <tr>\n",
       "      <th>4</th>\n",
       "      <td>2024-10-07</td>\n",
       "      <td>221.45</td>\n",
       "      <td>225.69</td>\n",
       "      <td>221.33</td>\n",
       "      <td>224.50</td>\n",
       "    </tr>\n",
       "  </tbody>\n",
       "</table>\n",
       "</div>"
      ],
      "text/plain": [
       "Data Index       Date  Adj Close    High     Low    Open\n",
       "0          2024-10-01     225.96  229.65  223.74  229.52\n",
       "1          2024-10-02     226.53  227.37  223.02  225.89\n",
       "2          2024-10-03     225.42  226.81  223.32  225.14\n",
       "3          2024-10-04     226.55  228.00  224.13  227.90\n",
       "4          2024-10-07     221.45  225.69  221.33  224.50"
      ]
     },
     "execution_count": 9,
     "metadata": {},
     "output_type": "execute_result"
    }
   ],
   "source": [
    "data[\"AAPL_data\"].head()"
   ]
  },
  {
   "cell_type": "markdown",
   "metadata": {},
   "source": [
    "### Core Data Visualizations"
   ]
  },
  {
   "cell_type": "code",
   "execution_count": 4,
   "metadata": {},
   "outputs": [],
   "source": [
    "def create_individual_graph(stock_data, file_path=\"individual_graphs.html\"):\n",
    "    \"\"\"\n",
    "    Generate line plots for the adjusted closing prices of stocks and save them as an HTML file.\n",
    "\n",
    "    Args:\n",
    "        stock_data (dict): Dictionary of stock data with ticker keys.\n",
    "        file_path (str): Path for saving the HTML file.\n",
    "\n",
    "    Returns:\n",
    "        dict: A dictionary containing the figures and the URL of the saved HTML file.\n",
    "    \"\"\"\n",
    "    figures = {}\n",
    "\n",
    "    # Generate individual figures for each stock\n",
    "    for ticker, dataframe in stock_data.items():\n",
    "        if ticker == \"tickers\":\n",
    "            continue\n",
    "\n",
    "        markers = len(dataframe) <= 62\n",
    "        render_mode = \"svg\" if len(dataframe) > 999 else \"auto\"\n",
    "\n",
    "        fig = px.line(\n",
    "            dataframe,\n",
    "            x=dataframe.columns[0],\n",
    "            y=\"Adj Close\",\n",
    "            markers=markers,\n",
    "            render_mode=render_mode,\n",
    "            title=f\"Price Trend for {ticker}\",\n",
    "        )\n",
    "\n",
    "        # Define rangebreaks, excluding weekends and (optionally) non-trading hours\n",
    "        rangebreaks = [dict(bounds=[\"sat\", \"mon\"])]  # Remove weekends\n",
    "        if dataframe.columns[0] == \"Datetime\":\n",
    "            rangebreaks.append(dict(bounds=[16, 9.5], pattern=\"hour\"))  # Exclude non-trading hours\n",
    "\n",
    "        fig.update_layout(\n",
    "            xaxis=dict(rangebreaks=rangebreaks),\n",
    "            xaxis_title=\"Date/Time\",\n",
    "            yaxis_title=\"Adjusted Close Price\",\n",
    "        )\n",
    "\n",
    "        figures[ticker] = fig\n",
    "\n",
    "    # Handle multiple figures by combining them into a subplot\n",
    "    if len(figures) > 1:\n",
    "        combined_fig = make_subplots(\n",
    "            rows=1,\n",
    "            cols=len(figures),\n",
    "            subplot_titles=[f\"Price Trend for {ticker}\" for ticker in figures.keys()],\n",
    "        )\n",
    "\n",
    "        for i, ticker in enumerate(figures.keys()):\n",
    "            for trace in figures[ticker][\"data\"]:\n",
    "                combined_fig.add_trace(trace, row=1, col=i + 1)\n",
    "\n",
    "        combined_fig.update_layout(\n",
    "            xaxis_title=\"Date/Time\",\n",
    "            yaxis_title=\"Adjusted Close Price\",\n",
    "        )\n",
    "\n",
    "        # Save combined figure to HTML file\n",
    "        pio.write_html(combined_fig, file=file_path, auto_open=False)\n",
    "        return {\"figures\": figures, \"html_url\": file_path}\n",
    "\n",
    "    # Handle single figure case\n",
    "    first_ticker = next(iter(figures))  # Get the first (and only) ticker\n",
    "    pio.write_html(figures[first_ticker], file=file_path, auto_open=False)\n",
    "    return {\"figures\": figures, \"html_url\": file_path}\n",
    "\n",
    "      \n",
    "def create_news_table(stock_data, file_path=\"news_table.html\"):\n",
    "    \"\"\"\n",
    "    Create a display table of stock news and save it as an HTML file.\n",
    "\n",
    "    Args:\n",
    "        stock_data (dict): Dictionary of stock data with ticker keys.\n",
    "        file_path (str): Path for saving the HTML file.\n",
    "\n",
    "    Returns:\n",
    "        dict: A dictionary containing the Plotly table figure and the URL of the saved HTML file.\n",
    "    \"\"\"\n",
    "    all_news = []\n",
    "\n",
    "    # Collect news\n",
    "    for ticker in stock_data[\"tickers\"]:\n",
    "        ticker_item = yf.Ticker(ticker)\n",
    "        news = ticker_item.get_news()\n",
    "        news_df = pd.DataFrame(news)\n",
    "\n",
    "        # Limit the number of articles\n",
    "        if len(stock_data[\"tickers\"]) > 1:\n",
    "            news_df = news_df.iloc[:3]\n",
    "        else:\n",
    "            news_df = news_df.iloc[:6]\n",
    "\n",
    "        all_news.append(news_df)\n",
    "\n",
    "    # Concatenate news into a single DataFrame\n",
    "    final_news_df = pd.concat(all_news, ignore_index=True)\n",
    "    final_news_df = final_news_df.drop(columns=[\"uuid\", \"type\", \"thumbnail\", \"link\"], errors=\"ignore\")\n",
    "    final_news_df[\"providerPublishTime\"] = pd.to_datetime(\n",
    "        final_news_df[\"providerPublishTime\"], unit=\"s\"\n",
    "    ).dt.strftime('%Y-%m-%d %H:%M')\n",
    "\n",
    "    # Create a Plotly Table figure\n",
    "    fig = go.Figure(\n",
    "        data=[\n",
    "            go.Table(\n",
    "                header=dict(\n",
    "                    values=list(final_news_df.columns),\n",
    "                    fill_color=\"lightgrey\",\n",
    "                    align=\"left\",\n",
    "                ),\n",
    "                cells=dict(\n",
    "                    values=[final_news_df[col].tolist() for col in final_news_df.columns],\n",
    "                    fill_color=\"whitesmoke\",\n",
    "                    align=\"left\",\n",
    "                ),\n",
    "            )\n",
    "        ]\n",
    "    )\n",
    "\n",
    "    # Save the table as an HTML file\n",
    "    pio.write_html(fig, file=file_path, auto_open=False)\n",
    "\n",
    "    # Return the figure and HTML file path\n",
    "    return {\"figure\": fig, \"html_url\": file_path}\n",
    "\n",
    "\n",
    "def create_finances_table(stock_data, file_path=\"finances_table.html\"):\n",
    "    \"\"\"\n",
    "    Create a table showing financials, dispersed evenly by date into 10 rows, and save it as an HTML file.\n",
    "\n",
    "    Args:\n",
    "        stock_data (dict): Dictionary of stock data with ticker keys.\n",
    "        file_path (str): Path for saving the HTML file.\n",
    "\n",
    "    Returns:\n",
    "        dict: A dictionary containing the Plotly table figure and the URL of the saved HTML file.\n",
    "    \"\"\"\n",
    "    table_subsets = {}\n",
    "\n",
    "    # Process each ticker's DataFrame\n",
    "    for ticker, dataframe in stock_data.items():\n",
    "        if ticker == \"tickers\":\n",
    "            continue\n",
    "\n",
    "        # Reduce DataFrame to 10 rows (dispersed evenly)\n",
    "        if len(dataframe) <= 10:\n",
    "            table_subsets[ticker] = dataframe\n",
    "        else:\n",
    "            step = max(1, len(dataframe) // 9)\n",
    "            reduced_df = dataframe.iloc[::step].head(9)\n",
    "            reduced_df = pd.concat([reduced_df, dataframe.iloc[[-1]]])  # Include the last row\n",
    "\n",
    "            table_subsets[ticker] = reduced_df\n",
    "\n",
    "    # Horizontally concatenate DataFrames\n",
    "    merged_table = pd.concat(table_subsets.values(), axis=1, keys=table_subsets.keys())\n",
    "\n",
    "    # Create a Plotly Table\n",
    "    fig = go.Figure(\n",
    "        data=[\n",
    "            go.Table(\n",
    "                header=dict(\n",
    "                    values=list(merged_table.columns),  # Column headers\n",
    "                    fill_color=\"lightgrey\",\n",
    "                    align=\"left\",\n",
    "                ),\n",
    "                cells=dict(\n",
    "                    values=[merged_table[col].tolist() for col in merged_table.columns],  # Data for each column\n",
    "                    fill_color=\"whitesmoke\",\n",
    "                    align=\"left\",\n",
    "                ),\n",
    "            )\n",
    "        ]\n",
    "    )\n",
    "\n",
    "    # Save the table as an HTML file\n",
    "    pio.write_html(fig, file=file_path, auto_open=False)\n",
    "\n",
    "    # Return the figure and HTML file path\n",
    "    return {\"figure\": fig, \"html_url\": file_path}\n",
    "\n",
    "\n",
    "def create_important_table(stock_data, file_path=\"important_table.html\"):\n",
    "    \"\"\"\n",
    "    Create a secondary table displaying 'important' metrics such as beta, PE ratios, and 52-week scores,\n",
    "    with tickers as columns and metrics as rows. Save the table as an HTML file.\n",
    "\n",
    "    Args:\n",
    "        stock_data (dict): Dictionary of stock data with ticker keys.\n",
    "        file_path (str): Path for saving the HTML file.\n",
    "\n",
    "    Returns:\n",
    "        dict: A dictionary containing the Plotly table figure and the URL of the saved HTML file.\n",
    "    \"\"\"\n",
    "    metrics_list = []\n",
    "\n",
    "    # Loop through tickers and extract data\n",
    "    for ticker in stock_data[\"tickers\"]:\n",
    "        ticker_item = yf.Ticker(ticker)\n",
    "        metrics = {\n",
    "            \"Ticker\": ticker,\n",
    "            \"Trailing P/E\": round(ticker_item.info.get(\"trailingPE\", float(\"nan\")), 3),\n",
    "            \"Forward P/E\": round(ticker_item.info.get(\"forwardPE\", float(\"nan\")), 3),\n",
    "            \"52 Week Low\": round(ticker_item.info.get(\"fiftyTwoWeekLow\", float(\"nan\")), 3),\n",
    "            \"52 Week High\": round(ticker_item.info.get(\"fiftyTwoWeekHigh\", float(\"nan\")), 3),\n",
    "            \"52 Week Change\": round(ticker_item.info.get(\"52WeekChange\", float(\"nan\")), 3),\n",
    "            \"50 Day Average\": round(ticker_item.info.get(\"fiftyDayAverage\", float(\"nan\")), 3),\n",
    "            \"200 Day Average\": round(ticker_item.info.get(\"twoHundredDayAverage\", float(\"nan\")), 3),\n",
    "        }\n",
    "        metrics_list.append(metrics)\n",
    "\n",
    "    # Create DataFrame and transpose for table structure\n",
    "    dataframe = pd.DataFrame(metrics_list).set_index(\"Ticker\").T\n",
    "\n",
    "    # Create Plotly Table\n",
    "    fig = go.Figure(\n",
    "        data=[\n",
    "            go.Table(\n",
    "                header=dict(\n",
    "                    values=[\"Metrics\"] + list(dataframe.columns),\n",
    "                    fill_color=\"lightgrey\",\n",
    "                    align=\"left\",\n",
    "                ),\n",
    "                cells=dict(\n",
    "                    values=[dataframe.index.tolist()] + [dataframe[col].tolist() for col in dataframe.columns],\n",
    "                    fill_color=\"whitesmoke\",\n",
    "                    align=\"left\",\n",
    "                ),\n",
    "            )\n",
    "        ]\n",
    "    )\n",
    "\n",
    "    # Save the table as an HTML file\n",
    "    pio.write_html(fig, file=file_path, auto_open=False)\n",
    "\n",
    "    # Return the figure and HTML file path\n",
    "    return {\"figure\": fig, \"html_url\": file_path}\n",
    "\n",
    "\n",
    "def create_additional_table(stock_data, file_path=\"additional_table.html\"):\n",
    "    \"\"\"\n",
    "    Create tertiary table to display other metrics relevant to stock purchasing decisions.\n",
    "    Save the table as an HTML file.\n",
    "\n",
    "    Args:\n",
    "        stock_data (dict): Dictionary of stock data with ticker keys.\n",
    "        file_path (str): Path for saving the HTML file.\n",
    "\n",
    "    Returns:\n",
    "        dict: A dictionary containing the Plotly table figure and the URL of the saved HTML file.\n",
    "    \"\"\"\n",
    "    metrics_list = []\n",
    "\n",
    "    for ticker in stock_data[\"tickers\"]:\n",
    "        ticker_item = yf.Ticker(ticker)\n",
    "        metrics = {\n",
    "            \"Ticker\": ticker,\n",
    "            \"Industry\": ticker_item.info.get(\"industry\"),\n",
    "            \"Analyst Recommendation\": ticker_item.info.get(\"recommendationKey\"),\n",
    "            \"Beta\": ticker_item.info.get(\"beta\"),\n",
    "            \"Overall Risk Score\": ticker_item.info.get(\"overallRisk\"),\n",
    "            \"Market Cap\": ticker_item.info.get(\"marketCap\"),\n",
    "            \"Total Revenue\": ticker_item.info.get(\"totalRevenue\"),\n",
    "            \"Net Profit\": ticker_item.info.get(\"netIncomeToCommon\"),\n",
    "            \"Profit Margins\": ticker_item.info.get(\"profitMargins\"),\n",
    "        }\n",
    "\n",
    "        # Additional Calculations\n",
    "        total_revenue = metrics[\"Total Revenue\"]\n",
    "        gross_margins = ticker_item.info.get(\"grossMargins\")\n",
    "        gross_profit = total_revenue * gross_margins if total_revenue and gross_margins else None\n",
    "        metrics[\"Gross Profit\"] = gross_profit\n",
    "\n",
    "        # Format metrics for display\n",
    "        if metrics[\"Profit Margins\"] is not None:\n",
    "            metrics[\"Profit Margins\"] = f\"{metrics['Profit Margins'] * 100:.2f}%\"\n",
    "\n",
    "        metrics[\"Market Cap\"] = format_large_number(metrics[\"Market Cap\"])\n",
    "        metrics[\"Total Revenue\"] = format_large_number(metrics[\"Total Revenue\"])\n",
    "        metrics[\"Net Profit\"] = format_large_number(metrics[\"Net Profit\"])\n",
    "        metrics[\"Gross Profit\"] = format_large_number(metrics[\"Gross Profit\"])\n",
    "\n",
    "        # Add to metrics list\n",
    "        metrics_list.append(metrics)\n",
    "\n",
    "    # Create DataFrame\n",
    "    dataframe = pd.DataFrame(metrics_list)\n",
    "\n",
    "    # Create Plotly Table\n",
    "    fig = go.Figure(\n",
    "        data=[\n",
    "            go.Table(\n",
    "                header=dict(\n",
    "                    values=list(dataframe.columns),  # Column headers\n",
    "                    fill_color=\"lightgrey\",\n",
    "                    align=\"left\",\n",
    "                ),\n",
    "                cells=dict(\n",
    "                    values=[dataframe[col].tolist() for col in dataframe.columns],  # Data for each column\n",
    "                    fill_color=\"whitesmoke\",\n",
    "                    align=\"left\",\n",
    "                ),\n",
    "            )\n",
    "        ]\n",
    "    )\n",
    "\n",
    "    # Save the table as an HTML file\n",
    "    pio.write_html(fig, file=file_path, auto_open=False)\n",
    "\n",
    "    # Return the figure and HTML file path\n",
    "    return {\"figure\": fig, \"html_url\": file_path}\n",
    "\n",
    "\n"
   ]
  },
  {
   "cell_type": "code",
   "execution_count": null,
   "metadata": {},
   "outputs": [],
   "source": [
    "data = fetch_stock_data(['AAPL', 'MSFT'], '2024-10-01', '2024-11-30', interval='1d')\n",
    "correct_stock_data(data)"
   ]
  },
  {
   "cell_type": "code",
   "execution_count": 121,
   "metadata": {},
   "outputs": [
    {
     "data": {
      "application/vnd.plotly.v1+json": {
       "config": {
        "plotlyServerURL": "https://plot.ly"
       },
       "data": [
        {
         "hovertemplate": "Date=%{x}<br>Adj Close=%{y}<extra></extra>",
         "legendgroup": "",
         "line": {
          "color": "#636efa",
          "dash": "solid"
         },
         "marker": {
          "symbol": "circle"
         },
         "mode": "lines+markers",
         "name": "",
         "orientation": "v",
         "showlegend": false,
         "type": "scatter",
         "x": [
          "2024-10-01T00:00:00",
          "2024-10-02T00:00:00",
          "2024-10-03T00:00:00",
          "2024-10-04T00:00:00",
          "2024-10-07T00:00:00",
          "2024-10-08T00:00:00",
          "2024-10-09T00:00:00",
          "2024-10-10T00:00:00",
          "2024-10-11T00:00:00",
          "2024-10-14T00:00:00",
          "2024-10-15T00:00:00",
          "2024-10-16T00:00:00",
          "2024-10-17T00:00:00",
          "2024-10-18T00:00:00",
          "2024-10-21T00:00:00",
          "2024-10-22T00:00:00",
          "2024-10-23T00:00:00",
          "2024-10-24T00:00:00",
          "2024-10-25T00:00:00",
          "2024-10-28T00:00:00",
          "2024-10-29T00:00:00",
          "2024-10-30T00:00:00",
          "2024-10-31T00:00:00",
          "2024-11-01T00:00:00",
          "2024-11-04T00:00:00",
          "2024-11-05T00:00:00",
          "2024-11-06T00:00:00",
          "2024-11-07T00:00:00",
          "2024-11-08T00:00:00",
          "2024-11-11T00:00:00",
          "2024-11-12T00:00:00",
          "2024-11-13T00:00:00",
          "2024-11-14T00:00:00",
          "2024-11-15T00:00:00",
          "2024-11-18T00:00:00",
          "2024-11-19T00:00:00",
          "2024-11-20T00:00:00",
          "2024-11-21T00:00:00",
          "2024-11-22T00:00:00",
          "2024-11-25T00:00:00",
          "2024-11-26T00:00:00",
          "2024-11-27T00:00:00",
          "2024-11-29T00:00:00"
         ],
         "xaxis": "x",
         "y": [
          225.96,
          226.53,
          225.42,
          226.55,
          221.45,
          225.52,
          229.29,
          228.79,
          227.3,
          231.05,
          233.59,
          231.53,
          231.89,
          234.74,
          236.22,
          235.6,
          230.51,
          230.32,
          231.16,
          233.14,
          233.41,
          229.85,
          225.66,
          222.67,
          221.77,
          223.2,
          222.48,
          227.23,
          226.96,
          224.23,
          224.23,
          225.12,
          228.22,
          225,
          228.02,
          228.28,
          229,
          228.52,
          229.87,
          232.87,
          235.06,
          234.93,
          237.33
         ],
         "yaxis": "y"
        }
       ],
       "layout": {
        "legend": {
         "tracegroupgap": 0
        },
        "template": {
         "data": {
          "bar": [
           {
            "error_x": {
             "color": "#2a3f5f"
            },
            "error_y": {
             "color": "#2a3f5f"
            },
            "marker": {
             "line": {
              "color": "#E5ECF6",
              "width": 0.5
             },
             "pattern": {
              "fillmode": "overlay",
              "size": 10,
              "solidity": 0.2
             }
            },
            "type": "bar"
           }
          ],
          "barpolar": [
           {
            "marker": {
             "line": {
              "color": "#E5ECF6",
              "width": 0.5
             },
             "pattern": {
              "fillmode": "overlay",
              "size": 10,
              "solidity": 0.2
             }
            },
            "type": "barpolar"
           }
          ],
          "carpet": [
           {
            "aaxis": {
             "endlinecolor": "#2a3f5f",
             "gridcolor": "white",
             "linecolor": "white",
             "minorgridcolor": "white",
             "startlinecolor": "#2a3f5f"
            },
            "baxis": {
             "endlinecolor": "#2a3f5f",
             "gridcolor": "white",
             "linecolor": "white",
             "minorgridcolor": "white",
             "startlinecolor": "#2a3f5f"
            },
            "type": "carpet"
           }
          ],
          "choropleth": [
           {
            "colorbar": {
             "outlinewidth": 0,
             "ticks": ""
            },
            "type": "choropleth"
           }
          ],
          "contour": [
           {
            "colorbar": {
             "outlinewidth": 0,
             "ticks": ""
            },
            "colorscale": [
             [
              0,
              "#0d0887"
             ],
             [
              0.1111111111111111,
              "#46039f"
             ],
             [
              0.2222222222222222,
              "#7201a8"
             ],
             [
              0.3333333333333333,
              "#9c179e"
             ],
             [
              0.4444444444444444,
              "#bd3786"
             ],
             [
              0.5555555555555556,
              "#d8576b"
             ],
             [
              0.6666666666666666,
              "#ed7953"
             ],
             [
              0.7777777777777778,
              "#fb9f3a"
             ],
             [
              0.8888888888888888,
              "#fdca26"
             ],
             [
              1,
              "#f0f921"
             ]
            ],
            "type": "contour"
           }
          ],
          "contourcarpet": [
           {
            "colorbar": {
             "outlinewidth": 0,
             "ticks": ""
            },
            "type": "contourcarpet"
           }
          ],
          "heatmap": [
           {
            "colorbar": {
             "outlinewidth": 0,
             "ticks": ""
            },
            "colorscale": [
             [
              0,
              "#0d0887"
             ],
             [
              0.1111111111111111,
              "#46039f"
             ],
             [
              0.2222222222222222,
              "#7201a8"
             ],
             [
              0.3333333333333333,
              "#9c179e"
             ],
             [
              0.4444444444444444,
              "#bd3786"
             ],
             [
              0.5555555555555556,
              "#d8576b"
             ],
             [
              0.6666666666666666,
              "#ed7953"
             ],
             [
              0.7777777777777778,
              "#fb9f3a"
             ],
             [
              0.8888888888888888,
              "#fdca26"
             ],
             [
              1,
              "#f0f921"
             ]
            ],
            "type": "heatmap"
           }
          ],
          "heatmapgl": [
           {
            "colorbar": {
             "outlinewidth": 0,
             "ticks": ""
            },
            "colorscale": [
             [
              0,
              "#0d0887"
             ],
             [
              0.1111111111111111,
              "#46039f"
             ],
             [
              0.2222222222222222,
              "#7201a8"
             ],
             [
              0.3333333333333333,
              "#9c179e"
             ],
             [
              0.4444444444444444,
              "#bd3786"
             ],
             [
              0.5555555555555556,
              "#d8576b"
             ],
             [
              0.6666666666666666,
              "#ed7953"
             ],
             [
              0.7777777777777778,
              "#fb9f3a"
             ],
             [
              0.8888888888888888,
              "#fdca26"
             ],
             [
              1,
              "#f0f921"
             ]
            ],
            "type": "heatmapgl"
           }
          ],
          "histogram": [
           {
            "marker": {
             "pattern": {
              "fillmode": "overlay",
              "size": 10,
              "solidity": 0.2
             }
            },
            "type": "histogram"
           }
          ],
          "histogram2d": [
           {
            "colorbar": {
             "outlinewidth": 0,
             "ticks": ""
            },
            "colorscale": [
             [
              0,
              "#0d0887"
             ],
             [
              0.1111111111111111,
              "#46039f"
             ],
             [
              0.2222222222222222,
              "#7201a8"
             ],
             [
              0.3333333333333333,
              "#9c179e"
             ],
             [
              0.4444444444444444,
              "#bd3786"
             ],
             [
              0.5555555555555556,
              "#d8576b"
             ],
             [
              0.6666666666666666,
              "#ed7953"
             ],
             [
              0.7777777777777778,
              "#fb9f3a"
             ],
             [
              0.8888888888888888,
              "#fdca26"
             ],
             [
              1,
              "#f0f921"
             ]
            ],
            "type": "histogram2d"
           }
          ],
          "histogram2dcontour": [
           {
            "colorbar": {
             "outlinewidth": 0,
             "ticks": ""
            },
            "colorscale": [
             [
              0,
              "#0d0887"
             ],
             [
              0.1111111111111111,
              "#46039f"
             ],
             [
              0.2222222222222222,
              "#7201a8"
             ],
             [
              0.3333333333333333,
              "#9c179e"
             ],
             [
              0.4444444444444444,
              "#bd3786"
             ],
             [
              0.5555555555555556,
              "#d8576b"
             ],
             [
              0.6666666666666666,
              "#ed7953"
             ],
             [
              0.7777777777777778,
              "#fb9f3a"
             ],
             [
              0.8888888888888888,
              "#fdca26"
             ],
             [
              1,
              "#f0f921"
             ]
            ],
            "type": "histogram2dcontour"
           }
          ],
          "mesh3d": [
           {
            "colorbar": {
             "outlinewidth": 0,
             "ticks": ""
            },
            "type": "mesh3d"
           }
          ],
          "parcoords": [
           {
            "line": {
             "colorbar": {
              "outlinewidth": 0,
              "ticks": ""
             }
            },
            "type": "parcoords"
           }
          ],
          "pie": [
           {
            "automargin": true,
            "type": "pie"
           }
          ],
          "scatter": [
           {
            "fillpattern": {
             "fillmode": "overlay",
             "size": 10,
             "solidity": 0.2
            },
            "type": "scatter"
           }
          ],
          "scatter3d": [
           {
            "line": {
             "colorbar": {
              "outlinewidth": 0,
              "ticks": ""
             }
            },
            "marker": {
             "colorbar": {
              "outlinewidth": 0,
              "ticks": ""
             }
            },
            "type": "scatter3d"
           }
          ],
          "scattercarpet": [
           {
            "marker": {
             "colorbar": {
              "outlinewidth": 0,
              "ticks": ""
             }
            },
            "type": "scattercarpet"
           }
          ],
          "scattergeo": [
           {
            "marker": {
             "colorbar": {
              "outlinewidth": 0,
              "ticks": ""
             }
            },
            "type": "scattergeo"
           }
          ],
          "scattergl": [
           {
            "marker": {
             "colorbar": {
              "outlinewidth": 0,
              "ticks": ""
             }
            },
            "type": "scattergl"
           }
          ],
          "scattermapbox": [
           {
            "marker": {
             "colorbar": {
              "outlinewidth": 0,
              "ticks": ""
             }
            },
            "type": "scattermapbox"
           }
          ],
          "scatterpolar": [
           {
            "marker": {
             "colorbar": {
              "outlinewidth": 0,
              "ticks": ""
             }
            },
            "type": "scatterpolar"
           }
          ],
          "scatterpolargl": [
           {
            "marker": {
             "colorbar": {
              "outlinewidth": 0,
              "ticks": ""
             }
            },
            "type": "scatterpolargl"
           }
          ],
          "scatterternary": [
           {
            "marker": {
             "colorbar": {
              "outlinewidth": 0,
              "ticks": ""
             }
            },
            "type": "scatterternary"
           }
          ],
          "surface": [
           {
            "colorbar": {
             "outlinewidth": 0,
             "ticks": ""
            },
            "colorscale": [
             [
              0,
              "#0d0887"
             ],
             [
              0.1111111111111111,
              "#46039f"
             ],
             [
              0.2222222222222222,
              "#7201a8"
             ],
             [
              0.3333333333333333,
              "#9c179e"
             ],
             [
              0.4444444444444444,
              "#bd3786"
             ],
             [
              0.5555555555555556,
              "#d8576b"
             ],
             [
              0.6666666666666666,
              "#ed7953"
             ],
             [
              0.7777777777777778,
              "#fb9f3a"
             ],
             [
              0.8888888888888888,
              "#fdca26"
             ],
             [
              1,
              "#f0f921"
             ]
            ],
            "type": "surface"
           }
          ],
          "table": [
           {
            "cells": {
             "fill": {
              "color": "#EBF0F8"
             },
             "line": {
              "color": "white"
             }
            },
            "header": {
             "fill": {
              "color": "#C8D4E3"
             },
             "line": {
              "color": "white"
             }
            },
            "type": "table"
           }
          ]
         },
         "layout": {
          "annotationdefaults": {
           "arrowcolor": "#2a3f5f",
           "arrowhead": 0,
           "arrowwidth": 1
          },
          "autotypenumbers": "strict",
          "coloraxis": {
           "colorbar": {
            "outlinewidth": 0,
            "ticks": ""
           }
          },
          "colorscale": {
           "diverging": [
            [
             0,
             "#8e0152"
            ],
            [
             0.1,
             "#c51b7d"
            ],
            [
             0.2,
             "#de77ae"
            ],
            [
             0.3,
             "#f1b6da"
            ],
            [
             0.4,
             "#fde0ef"
            ],
            [
             0.5,
             "#f7f7f7"
            ],
            [
             0.6,
             "#e6f5d0"
            ],
            [
             0.7,
             "#b8e186"
            ],
            [
             0.8,
             "#7fbc41"
            ],
            [
             0.9,
             "#4d9221"
            ],
            [
             1,
             "#276419"
            ]
           ],
           "sequential": [
            [
             0,
             "#0d0887"
            ],
            [
             0.1111111111111111,
             "#46039f"
            ],
            [
             0.2222222222222222,
             "#7201a8"
            ],
            [
             0.3333333333333333,
             "#9c179e"
            ],
            [
             0.4444444444444444,
             "#bd3786"
            ],
            [
             0.5555555555555556,
             "#d8576b"
            ],
            [
             0.6666666666666666,
             "#ed7953"
            ],
            [
             0.7777777777777778,
             "#fb9f3a"
            ],
            [
             0.8888888888888888,
             "#fdca26"
            ],
            [
             1,
             "#f0f921"
            ]
           ],
           "sequentialminus": [
            [
             0,
             "#0d0887"
            ],
            [
             0.1111111111111111,
             "#46039f"
            ],
            [
             0.2222222222222222,
             "#7201a8"
            ],
            [
             0.3333333333333333,
             "#9c179e"
            ],
            [
             0.4444444444444444,
             "#bd3786"
            ],
            [
             0.5555555555555556,
             "#d8576b"
            ],
            [
             0.6666666666666666,
             "#ed7953"
            ],
            [
             0.7777777777777778,
             "#fb9f3a"
            ],
            [
             0.8888888888888888,
             "#fdca26"
            ],
            [
             1,
             "#f0f921"
            ]
           ]
          },
          "colorway": [
           "#636efa",
           "#EF553B",
           "#00cc96",
           "#ab63fa",
           "#FFA15A",
           "#19d3f3",
           "#FF6692",
           "#B6E880",
           "#FF97FF",
           "#FECB52"
          ],
          "font": {
           "color": "#2a3f5f"
          },
          "geo": {
           "bgcolor": "white",
           "lakecolor": "white",
           "landcolor": "#E5ECF6",
           "showlakes": true,
           "showland": true,
           "subunitcolor": "white"
          },
          "hoverlabel": {
           "align": "left"
          },
          "hovermode": "closest",
          "mapbox": {
           "style": "light"
          },
          "paper_bgcolor": "white",
          "plot_bgcolor": "#E5ECF6",
          "polar": {
           "angularaxis": {
            "gridcolor": "white",
            "linecolor": "white",
            "ticks": ""
           },
           "bgcolor": "#E5ECF6",
           "radialaxis": {
            "gridcolor": "white",
            "linecolor": "white",
            "ticks": ""
           }
          },
          "scene": {
           "xaxis": {
            "backgroundcolor": "#E5ECF6",
            "gridcolor": "white",
            "gridwidth": 2,
            "linecolor": "white",
            "showbackground": true,
            "ticks": "",
            "zerolinecolor": "white"
           },
           "yaxis": {
            "backgroundcolor": "#E5ECF6",
            "gridcolor": "white",
            "gridwidth": 2,
            "linecolor": "white",
            "showbackground": true,
            "ticks": "",
            "zerolinecolor": "white"
           },
           "zaxis": {
            "backgroundcolor": "#E5ECF6",
            "gridcolor": "white",
            "gridwidth": 2,
            "linecolor": "white",
            "showbackground": true,
            "ticks": "",
            "zerolinecolor": "white"
           }
          },
          "shapedefaults": {
           "line": {
            "color": "#2a3f5f"
           }
          },
          "ternary": {
           "aaxis": {
            "gridcolor": "white",
            "linecolor": "white",
            "ticks": ""
           },
           "baxis": {
            "gridcolor": "white",
            "linecolor": "white",
            "ticks": ""
           },
           "bgcolor": "#E5ECF6",
           "caxis": {
            "gridcolor": "white",
            "linecolor": "white",
            "ticks": ""
           }
          },
          "title": {
           "x": 0.05
          },
          "xaxis": {
           "automargin": true,
           "gridcolor": "white",
           "linecolor": "white",
           "ticks": "",
           "title": {
            "standoff": 15
           },
           "zerolinecolor": "white",
           "zerolinewidth": 2
          },
          "yaxis": {
           "automargin": true,
           "gridcolor": "white",
           "linecolor": "white",
           "ticks": "",
           "title": {
            "standoff": 15
           },
           "zerolinecolor": "white",
           "zerolinewidth": 2
          }
         }
        },
        "title": {
         "text": "Price Trend for AAPL_data"
        },
        "xaxis": {
         "anchor": "y",
         "domain": [
          0,
          1
         ],
         "rangebreaks": [
          {
           "bounds": [
            "sat",
            "mon"
           ]
          }
         ],
         "title": {
          "text": "Date/Time"
         }
        },
        "yaxis": {
         "anchor": "x",
         "domain": [
          0,
          1
         ],
         "title": {
          "text": "Adjusted Close Price"
         }
        }
       }
      }
     },
     "metadata": {},
     "output_type": "display_data"
    }
   ],
   "source": [
    "# data = fetch_stock_data([\"AAPL\"], \"2023-10-01\", \"2024-10-31\", interval=\"1d\")\n",
    "# correct_stock_data(data)\n",
    "graph = create_individual_graph(data)\n",
    "graph['figures']['AAPL_data']"
   ]
  },
  {
   "cell_type": "code",
   "execution_count": 116,
   "metadata": {},
   "outputs": [
    {
     "data": {
      "application/vnd.plotly.v1+json": {
       "config": {
        "plotlyServerURL": "https://plot.ly"
       },
       "data": [
        {
         "cells": {
          "align": "left",
          "fill": {
           "color": "whitesmoke"
          },
          "values": [
           [
            "Magnificent Seven Stocks: Nvidia, Tesla, Meta Sell Off",
            "Is Apple Inc. (AAPL) the Best Safe Dividend Stock for 2025?",
            "Apple joins consortium to help develop next-gen AI data center tech",
            "Magnificent Seven Stocks: Nvidia, Tesla, Meta Sell Off",
            "ChatGPT: Everything you need to know about the AI-powered chatbot",
            "Microsoft Urges Businesses to Be ‘Quantum Ready’"
           ],
           [
            "Investor's Business Daily",
            "Insider Monkey",
            "TechCrunch",
            "Investor's Business Daily",
            "TechCrunch",
            "Barrons.com"
           ],
           [
            "2025-01-15 01:29",
            "2025-01-14 23:09",
            "2025-01-14 22:25",
            "2025-01-15 01:29",
            "2025-01-14 22:15",
            "2025-01-14 21:36"
           ],
           [
            [
             "NVDA",
             "AAPL",
             "TSLA",
             "META",
             "MSFT"
            ],
            [
             "AAPL"
            ],
            [
             "AAPL"
            ],
            [
             "NVDA",
             "AAPL",
             "TSLA",
             "META",
             "MSFT"
            ],
            [
             "MSFT",
             "AAPL"
            ],
            [
             "MSFT"
            ]
           ]
          ]
         },
         "header": {
          "align": "left",
          "fill": {
           "color": "lightgrey"
          },
          "values": [
           "title",
           "publisher",
           "providerPublishTime",
           "relatedTickers"
          ]
         },
         "type": "table"
        }
       ],
       "layout": {
        "template": {
         "data": {
          "bar": [
           {
            "error_x": {
             "color": "#2a3f5f"
            },
            "error_y": {
             "color": "#2a3f5f"
            },
            "marker": {
             "line": {
              "color": "#E5ECF6",
              "width": 0.5
             },
             "pattern": {
              "fillmode": "overlay",
              "size": 10,
              "solidity": 0.2
             }
            },
            "type": "bar"
           }
          ],
          "barpolar": [
           {
            "marker": {
             "line": {
              "color": "#E5ECF6",
              "width": 0.5
             },
             "pattern": {
              "fillmode": "overlay",
              "size": 10,
              "solidity": 0.2
             }
            },
            "type": "barpolar"
           }
          ],
          "carpet": [
           {
            "aaxis": {
             "endlinecolor": "#2a3f5f",
             "gridcolor": "white",
             "linecolor": "white",
             "minorgridcolor": "white",
             "startlinecolor": "#2a3f5f"
            },
            "baxis": {
             "endlinecolor": "#2a3f5f",
             "gridcolor": "white",
             "linecolor": "white",
             "minorgridcolor": "white",
             "startlinecolor": "#2a3f5f"
            },
            "type": "carpet"
           }
          ],
          "choropleth": [
           {
            "colorbar": {
             "outlinewidth": 0,
             "ticks": ""
            },
            "type": "choropleth"
           }
          ],
          "contour": [
           {
            "colorbar": {
             "outlinewidth": 0,
             "ticks": ""
            },
            "colorscale": [
             [
              0,
              "#0d0887"
             ],
             [
              0.1111111111111111,
              "#46039f"
             ],
             [
              0.2222222222222222,
              "#7201a8"
             ],
             [
              0.3333333333333333,
              "#9c179e"
             ],
             [
              0.4444444444444444,
              "#bd3786"
             ],
             [
              0.5555555555555556,
              "#d8576b"
             ],
             [
              0.6666666666666666,
              "#ed7953"
             ],
             [
              0.7777777777777778,
              "#fb9f3a"
             ],
             [
              0.8888888888888888,
              "#fdca26"
             ],
             [
              1,
              "#f0f921"
             ]
            ],
            "type": "contour"
           }
          ],
          "contourcarpet": [
           {
            "colorbar": {
             "outlinewidth": 0,
             "ticks": ""
            },
            "type": "contourcarpet"
           }
          ],
          "heatmap": [
           {
            "colorbar": {
             "outlinewidth": 0,
             "ticks": ""
            },
            "colorscale": [
             [
              0,
              "#0d0887"
             ],
             [
              0.1111111111111111,
              "#46039f"
             ],
             [
              0.2222222222222222,
              "#7201a8"
             ],
             [
              0.3333333333333333,
              "#9c179e"
             ],
             [
              0.4444444444444444,
              "#bd3786"
             ],
             [
              0.5555555555555556,
              "#d8576b"
             ],
             [
              0.6666666666666666,
              "#ed7953"
             ],
             [
              0.7777777777777778,
              "#fb9f3a"
             ],
             [
              0.8888888888888888,
              "#fdca26"
             ],
             [
              1,
              "#f0f921"
             ]
            ],
            "type": "heatmap"
           }
          ],
          "heatmapgl": [
           {
            "colorbar": {
             "outlinewidth": 0,
             "ticks": ""
            },
            "colorscale": [
             [
              0,
              "#0d0887"
             ],
             [
              0.1111111111111111,
              "#46039f"
             ],
             [
              0.2222222222222222,
              "#7201a8"
             ],
             [
              0.3333333333333333,
              "#9c179e"
             ],
             [
              0.4444444444444444,
              "#bd3786"
             ],
             [
              0.5555555555555556,
              "#d8576b"
             ],
             [
              0.6666666666666666,
              "#ed7953"
             ],
             [
              0.7777777777777778,
              "#fb9f3a"
             ],
             [
              0.8888888888888888,
              "#fdca26"
             ],
             [
              1,
              "#f0f921"
             ]
            ],
            "type": "heatmapgl"
           }
          ],
          "histogram": [
           {
            "marker": {
             "pattern": {
              "fillmode": "overlay",
              "size": 10,
              "solidity": 0.2
             }
            },
            "type": "histogram"
           }
          ],
          "histogram2d": [
           {
            "colorbar": {
             "outlinewidth": 0,
             "ticks": ""
            },
            "colorscale": [
             [
              0,
              "#0d0887"
             ],
             [
              0.1111111111111111,
              "#46039f"
             ],
             [
              0.2222222222222222,
              "#7201a8"
             ],
             [
              0.3333333333333333,
              "#9c179e"
             ],
             [
              0.4444444444444444,
              "#bd3786"
             ],
             [
              0.5555555555555556,
              "#d8576b"
             ],
             [
              0.6666666666666666,
              "#ed7953"
             ],
             [
              0.7777777777777778,
              "#fb9f3a"
             ],
             [
              0.8888888888888888,
              "#fdca26"
             ],
             [
              1,
              "#f0f921"
             ]
            ],
            "type": "histogram2d"
           }
          ],
          "histogram2dcontour": [
           {
            "colorbar": {
             "outlinewidth": 0,
             "ticks": ""
            },
            "colorscale": [
             [
              0,
              "#0d0887"
             ],
             [
              0.1111111111111111,
              "#46039f"
             ],
             [
              0.2222222222222222,
              "#7201a8"
             ],
             [
              0.3333333333333333,
              "#9c179e"
             ],
             [
              0.4444444444444444,
              "#bd3786"
             ],
             [
              0.5555555555555556,
              "#d8576b"
             ],
             [
              0.6666666666666666,
              "#ed7953"
             ],
             [
              0.7777777777777778,
              "#fb9f3a"
             ],
             [
              0.8888888888888888,
              "#fdca26"
             ],
             [
              1,
              "#f0f921"
             ]
            ],
            "type": "histogram2dcontour"
           }
          ],
          "mesh3d": [
           {
            "colorbar": {
             "outlinewidth": 0,
             "ticks": ""
            },
            "type": "mesh3d"
           }
          ],
          "parcoords": [
           {
            "line": {
             "colorbar": {
              "outlinewidth": 0,
              "ticks": ""
             }
            },
            "type": "parcoords"
           }
          ],
          "pie": [
           {
            "automargin": true,
            "type": "pie"
           }
          ],
          "scatter": [
           {
            "fillpattern": {
             "fillmode": "overlay",
             "size": 10,
             "solidity": 0.2
            },
            "type": "scatter"
           }
          ],
          "scatter3d": [
           {
            "line": {
             "colorbar": {
              "outlinewidth": 0,
              "ticks": ""
             }
            },
            "marker": {
             "colorbar": {
              "outlinewidth": 0,
              "ticks": ""
             }
            },
            "type": "scatter3d"
           }
          ],
          "scattercarpet": [
           {
            "marker": {
             "colorbar": {
              "outlinewidth": 0,
              "ticks": ""
             }
            },
            "type": "scattercarpet"
           }
          ],
          "scattergeo": [
           {
            "marker": {
             "colorbar": {
              "outlinewidth": 0,
              "ticks": ""
             }
            },
            "type": "scattergeo"
           }
          ],
          "scattergl": [
           {
            "marker": {
             "colorbar": {
              "outlinewidth": 0,
              "ticks": ""
             }
            },
            "type": "scattergl"
           }
          ],
          "scattermapbox": [
           {
            "marker": {
             "colorbar": {
              "outlinewidth": 0,
              "ticks": ""
             }
            },
            "type": "scattermapbox"
           }
          ],
          "scatterpolar": [
           {
            "marker": {
             "colorbar": {
              "outlinewidth": 0,
              "ticks": ""
             }
            },
            "type": "scatterpolar"
           }
          ],
          "scatterpolargl": [
           {
            "marker": {
             "colorbar": {
              "outlinewidth": 0,
              "ticks": ""
             }
            },
            "type": "scatterpolargl"
           }
          ],
          "scatterternary": [
           {
            "marker": {
             "colorbar": {
              "outlinewidth": 0,
              "ticks": ""
             }
            },
            "type": "scatterternary"
           }
          ],
          "surface": [
           {
            "colorbar": {
             "outlinewidth": 0,
             "ticks": ""
            },
            "colorscale": [
             [
              0,
              "#0d0887"
             ],
             [
              0.1111111111111111,
              "#46039f"
             ],
             [
              0.2222222222222222,
              "#7201a8"
             ],
             [
              0.3333333333333333,
              "#9c179e"
             ],
             [
              0.4444444444444444,
              "#bd3786"
             ],
             [
              0.5555555555555556,
              "#d8576b"
             ],
             [
              0.6666666666666666,
              "#ed7953"
             ],
             [
              0.7777777777777778,
              "#fb9f3a"
             ],
             [
              0.8888888888888888,
              "#fdca26"
             ],
             [
              1,
              "#f0f921"
             ]
            ],
            "type": "surface"
           }
          ],
          "table": [
           {
            "cells": {
             "fill": {
              "color": "#EBF0F8"
             },
             "line": {
              "color": "white"
             }
            },
            "header": {
             "fill": {
              "color": "#C8D4E3"
             },
             "line": {
              "color": "white"
             }
            },
            "type": "table"
           }
          ]
         },
         "layout": {
          "annotationdefaults": {
           "arrowcolor": "#2a3f5f",
           "arrowhead": 0,
           "arrowwidth": 1
          },
          "autotypenumbers": "strict",
          "coloraxis": {
           "colorbar": {
            "outlinewidth": 0,
            "ticks": ""
           }
          },
          "colorscale": {
           "diverging": [
            [
             0,
             "#8e0152"
            ],
            [
             0.1,
             "#c51b7d"
            ],
            [
             0.2,
             "#de77ae"
            ],
            [
             0.3,
             "#f1b6da"
            ],
            [
             0.4,
             "#fde0ef"
            ],
            [
             0.5,
             "#f7f7f7"
            ],
            [
             0.6,
             "#e6f5d0"
            ],
            [
             0.7,
             "#b8e186"
            ],
            [
             0.8,
             "#7fbc41"
            ],
            [
             0.9,
             "#4d9221"
            ],
            [
             1,
             "#276419"
            ]
           ],
           "sequential": [
            [
             0,
             "#0d0887"
            ],
            [
             0.1111111111111111,
             "#46039f"
            ],
            [
             0.2222222222222222,
             "#7201a8"
            ],
            [
             0.3333333333333333,
             "#9c179e"
            ],
            [
             0.4444444444444444,
             "#bd3786"
            ],
            [
             0.5555555555555556,
             "#d8576b"
            ],
            [
             0.6666666666666666,
             "#ed7953"
            ],
            [
             0.7777777777777778,
             "#fb9f3a"
            ],
            [
             0.8888888888888888,
             "#fdca26"
            ],
            [
             1,
             "#f0f921"
            ]
           ],
           "sequentialminus": [
            [
             0,
             "#0d0887"
            ],
            [
             0.1111111111111111,
             "#46039f"
            ],
            [
             0.2222222222222222,
             "#7201a8"
            ],
            [
             0.3333333333333333,
             "#9c179e"
            ],
            [
             0.4444444444444444,
             "#bd3786"
            ],
            [
             0.5555555555555556,
             "#d8576b"
            ],
            [
             0.6666666666666666,
             "#ed7953"
            ],
            [
             0.7777777777777778,
             "#fb9f3a"
            ],
            [
             0.8888888888888888,
             "#fdca26"
            ],
            [
             1,
             "#f0f921"
            ]
           ]
          },
          "colorway": [
           "#636efa",
           "#EF553B",
           "#00cc96",
           "#ab63fa",
           "#FFA15A",
           "#19d3f3",
           "#FF6692",
           "#B6E880",
           "#FF97FF",
           "#FECB52"
          ],
          "font": {
           "color": "#2a3f5f"
          },
          "geo": {
           "bgcolor": "white",
           "lakecolor": "white",
           "landcolor": "#E5ECF6",
           "showlakes": true,
           "showland": true,
           "subunitcolor": "white"
          },
          "hoverlabel": {
           "align": "left"
          },
          "hovermode": "closest",
          "mapbox": {
           "style": "light"
          },
          "paper_bgcolor": "white",
          "plot_bgcolor": "#E5ECF6",
          "polar": {
           "angularaxis": {
            "gridcolor": "white",
            "linecolor": "white",
            "ticks": ""
           },
           "bgcolor": "#E5ECF6",
           "radialaxis": {
            "gridcolor": "white",
            "linecolor": "white",
            "ticks": ""
           }
          },
          "scene": {
           "xaxis": {
            "backgroundcolor": "#E5ECF6",
            "gridcolor": "white",
            "gridwidth": 2,
            "linecolor": "white",
            "showbackground": true,
            "ticks": "",
            "zerolinecolor": "white"
           },
           "yaxis": {
            "backgroundcolor": "#E5ECF6",
            "gridcolor": "white",
            "gridwidth": 2,
            "linecolor": "white",
            "showbackground": true,
            "ticks": "",
            "zerolinecolor": "white"
           },
           "zaxis": {
            "backgroundcolor": "#E5ECF6",
            "gridcolor": "white",
            "gridwidth": 2,
            "linecolor": "white",
            "showbackground": true,
            "ticks": "",
            "zerolinecolor": "white"
           }
          },
          "shapedefaults": {
           "line": {
            "color": "#2a3f5f"
           }
          },
          "ternary": {
           "aaxis": {
            "gridcolor": "white",
            "linecolor": "white",
            "ticks": ""
           },
           "baxis": {
            "gridcolor": "white",
            "linecolor": "white",
            "ticks": ""
           },
           "bgcolor": "#E5ECF6",
           "caxis": {
            "gridcolor": "white",
            "linecolor": "white",
            "ticks": ""
           }
          },
          "title": {
           "x": 0.05
          },
          "xaxis": {
           "automargin": true,
           "gridcolor": "white",
           "linecolor": "white",
           "ticks": "",
           "title": {
            "standoff": 15
           },
           "zerolinecolor": "white",
           "zerolinewidth": 2
          },
          "yaxis": {
           "automargin": true,
           "gridcolor": "white",
           "linecolor": "white",
           "ticks": "",
           "title": {
            "standoff": 15
           },
           "zerolinecolor": "white",
           "zerolinewidth": 2
          }
         }
        }
       }
      }
     },
     "metadata": {},
     "output_type": "display_data"
    }
   ],
   "source": [
    "news = create_news_table(data)\n",
    "news['figure']"
   ]
  },
  {
   "cell_type": "code",
   "execution_count": 105,
   "metadata": {},
   "outputs": [
    {
     "data": {
      "application/vnd.plotly.v1+json": {
       "config": {
        "plotlyServerURL": "https://plot.ly"
       },
       "data": [
        {
         "cells": {
          "align": "left",
          "fill": {
           "color": "whitesmoke"
          },
          "values": [
           [
            "2024-10-01T00:00:00",
            "2024-10-07T00:00:00",
            "2024-10-11T00:00:00",
            "2024-10-17T00:00:00",
            "2024-10-23T00:00:00",
            "2024-10-29T00:00:00",
            "2024-11-04T00:00:00",
            "2024-11-08T00:00:00",
            "2024-11-14T00:00:00",
            "2024-11-29T00:00:00"
           ],
           [
            225.96,
            221.45,
            227.3,
            231.89,
            230.51,
            233.41,
            221.77,
            226.96,
            228.22,
            237.33
           ],
           [
            229.65,
            225.69,
            229.41,
            233.85,
            235.14,
            234.33,
            222.79,
            228.66,
            228.87,
            237.81
           ],
           [
            223.74,
            221.33,
            227.34,
            230.52,
            227.76,
            232.32,
            219.71,
            226.41,
            225,
            233.97
           ],
           [
            229.52,
            224.5,
            229.3,
            233.43,
            234.08,
            233.1,
            220.99,
            227.17,
            225.02,
            234.81
           ],
           [
            "2024-10-01T00:00:00",
            "2024-10-07T00:00:00",
            "2024-10-11T00:00:00",
            "2024-10-17T00:00:00",
            "2024-10-23T00:00:00",
            "2024-10-29T00:00:00",
            "2024-11-04T00:00:00",
            "2024-11-08T00:00:00",
            "2024-11-14T00:00:00",
            "2024-11-29T00:00:00"
           ],
           [
            419.85,
            408.72,
            415.49,
            415.89,
            423.75,
            431.09,
            407.64,
            421.7,
            426.04,
            423.46
           ],
           [
            428.48,
            417.11,
            417.13,
            422.5,
            431.08,
            433.17,
            410.42,
            426.5,
            428.17,
            424.88
           ],
           [
            418.81,
            409,
            413.25,
            415.59,
            422.53,
            425.8,
            405.57,
            421.78,
            420,
            417.8
           ],
           [
            428.45,
            416,
            416.14,
            422.36,
            430.86,
            428,
            409.8,
            425.32,
            425,
            420.09
           ]
          ]
         },
         "header": {
          "align": "left",
          "fill": {
           "color": "lightgrey"
          },
          "values": [
           [
            "AAPL_data",
            "Date"
           ],
           [
            "AAPL_data",
            "Adj Close"
           ],
           [
            "AAPL_data",
            "High"
           ],
           [
            "AAPL_data",
            "Low"
           ],
           [
            "AAPL_data",
            "Open"
           ],
           [
            "MSFT_data",
            "Date"
           ],
           [
            "MSFT_data",
            "Adj Close"
           ],
           [
            "MSFT_data",
            "High"
           ],
           [
            "MSFT_data",
            "Low"
           ],
           [
            "MSFT_data",
            "Open"
           ]
          ]
         },
         "type": "table"
        }
       ],
       "layout": {
        "template": {
         "data": {
          "bar": [
           {
            "error_x": {
             "color": "#2a3f5f"
            },
            "error_y": {
             "color": "#2a3f5f"
            },
            "marker": {
             "line": {
              "color": "#E5ECF6",
              "width": 0.5
             },
             "pattern": {
              "fillmode": "overlay",
              "size": 10,
              "solidity": 0.2
             }
            },
            "type": "bar"
           }
          ],
          "barpolar": [
           {
            "marker": {
             "line": {
              "color": "#E5ECF6",
              "width": 0.5
             },
             "pattern": {
              "fillmode": "overlay",
              "size": 10,
              "solidity": 0.2
             }
            },
            "type": "barpolar"
           }
          ],
          "carpet": [
           {
            "aaxis": {
             "endlinecolor": "#2a3f5f",
             "gridcolor": "white",
             "linecolor": "white",
             "minorgridcolor": "white",
             "startlinecolor": "#2a3f5f"
            },
            "baxis": {
             "endlinecolor": "#2a3f5f",
             "gridcolor": "white",
             "linecolor": "white",
             "minorgridcolor": "white",
             "startlinecolor": "#2a3f5f"
            },
            "type": "carpet"
           }
          ],
          "choropleth": [
           {
            "colorbar": {
             "outlinewidth": 0,
             "ticks": ""
            },
            "type": "choropleth"
           }
          ],
          "contour": [
           {
            "colorbar": {
             "outlinewidth": 0,
             "ticks": ""
            },
            "colorscale": [
             [
              0,
              "#0d0887"
             ],
             [
              0.1111111111111111,
              "#46039f"
             ],
             [
              0.2222222222222222,
              "#7201a8"
             ],
             [
              0.3333333333333333,
              "#9c179e"
             ],
             [
              0.4444444444444444,
              "#bd3786"
             ],
             [
              0.5555555555555556,
              "#d8576b"
             ],
             [
              0.6666666666666666,
              "#ed7953"
             ],
             [
              0.7777777777777778,
              "#fb9f3a"
             ],
             [
              0.8888888888888888,
              "#fdca26"
             ],
             [
              1,
              "#f0f921"
             ]
            ],
            "type": "contour"
           }
          ],
          "contourcarpet": [
           {
            "colorbar": {
             "outlinewidth": 0,
             "ticks": ""
            },
            "type": "contourcarpet"
           }
          ],
          "heatmap": [
           {
            "colorbar": {
             "outlinewidth": 0,
             "ticks": ""
            },
            "colorscale": [
             [
              0,
              "#0d0887"
             ],
             [
              0.1111111111111111,
              "#46039f"
             ],
             [
              0.2222222222222222,
              "#7201a8"
             ],
             [
              0.3333333333333333,
              "#9c179e"
             ],
             [
              0.4444444444444444,
              "#bd3786"
             ],
             [
              0.5555555555555556,
              "#d8576b"
             ],
             [
              0.6666666666666666,
              "#ed7953"
             ],
             [
              0.7777777777777778,
              "#fb9f3a"
             ],
             [
              0.8888888888888888,
              "#fdca26"
             ],
             [
              1,
              "#f0f921"
             ]
            ],
            "type": "heatmap"
           }
          ],
          "heatmapgl": [
           {
            "colorbar": {
             "outlinewidth": 0,
             "ticks": ""
            },
            "colorscale": [
             [
              0,
              "#0d0887"
             ],
             [
              0.1111111111111111,
              "#46039f"
             ],
             [
              0.2222222222222222,
              "#7201a8"
             ],
             [
              0.3333333333333333,
              "#9c179e"
             ],
             [
              0.4444444444444444,
              "#bd3786"
             ],
             [
              0.5555555555555556,
              "#d8576b"
             ],
             [
              0.6666666666666666,
              "#ed7953"
             ],
             [
              0.7777777777777778,
              "#fb9f3a"
             ],
             [
              0.8888888888888888,
              "#fdca26"
             ],
             [
              1,
              "#f0f921"
             ]
            ],
            "type": "heatmapgl"
           }
          ],
          "histogram": [
           {
            "marker": {
             "pattern": {
              "fillmode": "overlay",
              "size": 10,
              "solidity": 0.2
             }
            },
            "type": "histogram"
           }
          ],
          "histogram2d": [
           {
            "colorbar": {
             "outlinewidth": 0,
             "ticks": ""
            },
            "colorscale": [
             [
              0,
              "#0d0887"
             ],
             [
              0.1111111111111111,
              "#46039f"
             ],
             [
              0.2222222222222222,
              "#7201a8"
             ],
             [
              0.3333333333333333,
              "#9c179e"
             ],
             [
              0.4444444444444444,
              "#bd3786"
             ],
             [
              0.5555555555555556,
              "#d8576b"
             ],
             [
              0.6666666666666666,
              "#ed7953"
             ],
             [
              0.7777777777777778,
              "#fb9f3a"
             ],
             [
              0.8888888888888888,
              "#fdca26"
             ],
             [
              1,
              "#f0f921"
             ]
            ],
            "type": "histogram2d"
           }
          ],
          "histogram2dcontour": [
           {
            "colorbar": {
             "outlinewidth": 0,
             "ticks": ""
            },
            "colorscale": [
             [
              0,
              "#0d0887"
             ],
             [
              0.1111111111111111,
              "#46039f"
             ],
             [
              0.2222222222222222,
              "#7201a8"
             ],
             [
              0.3333333333333333,
              "#9c179e"
             ],
             [
              0.4444444444444444,
              "#bd3786"
             ],
             [
              0.5555555555555556,
              "#d8576b"
             ],
             [
              0.6666666666666666,
              "#ed7953"
             ],
             [
              0.7777777777777778,
              "#fb9f3a"
             ],
             [
              0.8888888888888888,
              "#fdca26"
             ],
             [
              1,
              "#f0f921"
             ]
            ],
            "type": "histogram2dcontour"
           }
          ],
          "mesh3d": [
           {
            "colorbar": {
             "outlinewidth": 0,
             "ticks": ""
            },
            "type": "mesh3d"
           }
          ],
          "parcoords": [
           {
            "line": {
             "colorbar": {
              "outlinewidth": 0,
              "ticks": ""
             }
            },
            "type": "parcoords"
           }
          ],
          "pie": [
           {
            "automargin": true,
            "type": "pie"
           }
          ],
          "scatter": [
           {
            "fillpattern": {
             "fillmode": "overlay",
             "size": 10,
             "solidity": 0.2
            },
            "type": "scatter"
           }
          ],
          "scatter3d": [
           {
            "line": {
             "colorbar": {
              "outlinewidth": 0,
              "ticks": ""
             }
            },
            "marker": {
             "colorbar": {
              "outlinewidth": 0,
              "ticks": ""
             }
            },
            "type": "scatter3d"
           }
          ],
          "scattercarpet": [
           {
            "marker": {
             "colorbar": {
              "outlinewidth": 0,
              "ticks": ""
             }
            },
            "type": "scattercarpet"
           }
          ],
          "scattergeo": [
           {
            "marker": {
             "colorbar": {
              "outlinewidth": 0,
              "ticks": ""
             }
            },
            "type": "scattergeo"
           }
          ],
          "scattergl": [
           {
            "marker": {
             "colorbar": {
              "outlinewidth": 0,
              "ticks": ""
             }
            },
            "type": "scattergl"
           }
          ],
          "scattermapbox": [
           {
            "marker": {
             "colorbar": {
              "outlinewidth": 0,
              "ticks": ""
             }
            },
            "type": "scattermapbox"
           }
          ],
          "scatterpolar": [
           {
            "marker": {
             "colorbar": {
              "outlinewidth": 0,
              "ticks": ""
             }
            },
            "type": "scatterpolar"
           }
          ],
          "scatterpolargl": [
           {
            "marker": {
             "colorbar": {
              "outlinewidth": 0,
              "ticks": ""
             }
            },
            "type": "scatterpolargl"
           }
          ],
          "scatterternary": [
           {
            "marker": {
             "colorbar": {
              "outlinewidth": 0,
              "ticks": ""
             }
            },
            "type": "scatterternary"
           }
          ],
          "surface": [
           {
            "colorbar": {
             "outlinewidth": 0,
             "ticks": ""
            },
            "colorscale": [
             [
              0,
              "#0d0887"
             ],
             [
              0.1111111111111111,
              "#46039f"
             ],
             [
              0.2222222222222222,
              "#7201a8"
             ],
             [
              0.3333333333333333,
              "#9c179e"
             ],
             [
              0.4444444444444444,
              "#bd3786"
             ],
             [
              0.5555555555555556,
              "#d8576b"
             ],
             [
              0.6666666666666666,
              "#ed7953"
             ],
             [
              0.7777777777777778,
              "#fb9f3a"
             ],
             [
              0.8888888888888888,
              "#fdca26"
             ],
             [
              1,
              "#f0f921"
             ]
            ],
            "type": "surface"
           }
          ],
          "table": [
           {
            "cells": {
             "fill": {
              "color": "#EBF0F8"
             },
             "line": {
              "color": "white"
             }
            },
            "header": {
             "fill": {
              "color": "#C8D4E3"
             },
             "line": {
              "color": "white"
             }
            },
            "type": "table"
           }
          ]
         },
         "layout": {
          "annotationdefaults": {
           "arrowcolor": "#2a3f5f",
           "arrowhead": 0,
           "arrowwidth": 1
          },
          "autotypenumbers": "strict",
          "coloraxis": {
           "colorbar": {
            "outlinewidth": 0,
            "ticks": ""
           }
          },
          "colorscale": {
           "diverging": [
            [
             0,
             "#8e0152"
            ],
            [
             0.1,
             "#c51b7d"
            ],
            [
             0.2,
             "#de77ae"
            ],
            [
             0.3,
             "#f1b6da"
            ],
            [
             0.4,
             "#fde0ef"
            ],
            [
             0.5,
             "#f7f7f7"
            ],
            [
             0.6,
             "#e6f5d0"
            ],
            [
             0.7,
             "#b8e186"
            ],
            [
             0.8,
             "#7fbc41"
            ],
            [
             0.9,
             "#4d9221"
            ],
            [
             1,
             "#276419"
            ]
           ],
           "sequential": [
            [
             0,
             "#0d0887"
            ],
            [
             0.1111111111111111,
             "#46039f"
            ],
            [
             0.2222222222222222,
             "#7201a8"
            ],
            [
             0.3333333333333333,
             "#9c179e"
            ],
            [
             0.4444444444444444,
             "#bd3786"
            ],
            [
             0.5555555555555556,
             "#d8576b"
            ],
            [
             0.6666666666666666,
             "#ed7953"
            ],
            [
             0.7777777777777778,
             "#fb9f3a"
            ],
            [
             0.8888888888888888,
             "#fdca26"
            ],
            [
             1,
             "#f0f921"
            ]
           ],
           "sequentialminus": [
            [
             0,
             "#0d0887"
            ],
            [
             0.1111111111111111,
             "#46039f"
            ],
            [
             0.2222222222222222,
             "#7201a8"
            ],
            [
             0.3333333333333333,
             "#9c179e"
            ],
            [
             0.4444444444444444,
             "#bd3786"
            ],
            [
             0.5555555555555556,
             "#d8576b"
            ],
            [
             0.6666666666666666,
             "#ed7953"
            ],
            [
             0.7777777777777778,
             "#fb9f3a"
            ],
            [
             0.8888888888888888,
             "#fdca26"
            ],
            [
             1,
             "#f0f921"
            ]
           ]
          },
          "colorway": [
           "#636efa",
           "#EF553B",
           "#00cc96",
           "#ab63fa",
           "#FFA15A",
           "#19d3f3",
           "#FF6692",
           "#B6E880",
           "#FF97FF",
           "#FECB52"
          ],
          "font": {
           "color": "#2a3f5f"
          },
          "geo": {
           "bgcolor": "white",
           "lakecolor": "white",
           "landcolor": "#E5ECF6",
           "showlakes": true,
           "showland": true,
           "subunitcolor": "white"
          },
          "hoverlabel": {
           "align": "left"
          },
          "hovermode": "closest",
          "mapbox": {
           "style": "light"
          },
          "paper_bgcolor": "white",
          "plot_bgcolor": "#E5ECF6",
          "polar": {
           "angularaxis": {
            "gridcolor": "white",
            "linecolor": "white",
            "ticks": ""
           },
           "bgcolor": "#E5ECF6",
           "radialaxis": {
            "gridcolor": "white",
            "linecolor": "white",
            "ticks": ""
           }
          },
          "scene": {
           "xaxis": {
            "backgroundcolor": "#E5ECF6",
            "gridcolor": "white",
            "gridwidth": 2,
            "linecolor": "white",
            "showbackground": true,
            "ticks": "",
            "zerolinecolor": "white"
           },
           "yaxis": {
            "backgroundcolor": "#E5ECF6",
            "gridcolor": "white",
            "gridwidth": 2,
            "linecolor": "white",
            "showbackground": true,
            "ticks": "",
            "zerolinecolor": "white"
           },
           "zaxis": {
            "backgroundcolor": "#E5ECF6",
            "gridcolor": "white",
            "gridwidth": 2,
            "linecolor": "white",
            "showbackground": true,
            "ticks": "",
            "zerolinecolor": "white"
           }
          },
          "shapedefaults": {
           "line": {
            "color": "#2a3f5f"
           }
          },
          "ternary": {
           "aaxis": {
            "gridcolor": "white",
            "linecolor": "white",
            "ticks": ""
           },
           "baxis": {
            "gridcolor": "white",
            "linecolor": "white",
            "ticks": ""
           },
           "bgcolor": "#E5ECF6",
           "caxis": {
            "gridcolor": "white",
            "linecolor": "white",
            "ticks": ""
           }
          },
          "title": {
           "x": 0.05
          },
          "xaxis": {
           "automargin": true,
           "gridcolor": "white",
           "linecolor": "white",
           "ticks": "",
           "title": {
            "standoff": 15
           },
           "zerolinecolor": "white",
           "zerolinewidth": 2
          },
          "yaxis": {
           "automargin": true,
           "gridcolor": "white",
           "linecolor": "white",
           "ticks": "",
           "title": {
            "standoff": 15
           },
           "zerolinecolor": "white",
           "zerolinewidth": 2
          }
         }
        }
       }
      }
     },
     "metadata": {},
     "output_type": "display_data"
    }
   ],
   "source": [
    "finances = create_finances_table(data)\n",
    "finances['figure']"
   ]
  },
  {
   "cell_type": "code",
   "execution_count": 110,
   "metadata": {},
   "outputs": [
    {
     "data": {
      "application/vnd.plotly.v1+json": {
       "config": {
        "plotlyServerURL": "https://plot.ly"
       },
       "data": [
        {
         "cells": {
          "align": "left",
          "fill": {
           "color": "whitesmoke"
          },
          "values": [
           [
            "Trailing P/E",
            "Forward P/E",
            "52 Week Low",
            "52 Week High",
            "52 Week Change",
            "50 Day Average",
            "200 Day Average"
           ],
           [
            37.481,
            27.486,
            164.08,
            260.1,
            0.261,
            239.03,
            216.419
           ],
           [
            35.06,
            28.281,
            385.58,
            468.35,
            0.082,
            428.022,
            425.097
           ]
          ]
         },
         "header": {
          "align": "left",
          "fill": {
           "color": "lightgrey"
          },
          "values": [
           "Metrics",
           "AAPL",
           "MSFT"
          ]
         },
         "type": "table"
        }
       ],
       "layout": {
        "template": {
         "data": {
          "bar": [
           {
            "error_x": {
             "color": "#2a3f5f"
            },
            "error_y": {
             "color": "#2a3f5f"
            },
            "marker": {
             "line": {
              "color": "#E5ECF6",
              "width": 0.5
             },
             "pattern": {
              "fillmode": "overlay",
              "size": 10,
              "solidity": 0.2
             }
            },
            "type": "bar"
           }
          ],
          "barpolar": [
           {
            "marker": {
             "line": {
              "color": "#E5ECF6",
              "width": 0.5
             },
             "pattern": {
              "fillmode": "overlay",
              "size": 10,
              "solidity": 0.2
             }
            },
            "type": "barpolar"
           }
          ],
          "carpet": [
           {
            "aaxis": {
             "endlinecolor": "#2a3f5f",
             "gridcolor": "white",
             "linecolor": "white",
             "minorgridcolor": "white",
             "startlinecolor": "#2a3f5f"
            },
            "baxis": {
             "endlinecolor": "#2a3f5f",
             "gridcolor": "white",
             "linecolor": "white",
             "minorgridcolor": "white",
             "startlinecolor": "#2a3f5f"
            },
            "type": "carpet"
           }
          ],
          "choropleth": [
           {
            "colorbar": {
             "outlinewidth": 0,
             "ticks": ""
            },
            "type": "choropleth"
           }
          ],
          "contour": [
           {
            "colorbar": {
             "outlinewidth": 0,
             "ticks": ""
            },
            "colorscale": [
             [
              0,
              "#0d0887"
             ],
             [
              0.1111111111111111,
              "#46039f"
             ],
             [
              0.2222222222222222,
              "#7201a8"
             ],
             [
              0.3333333333333333,
              "#9c179e"
             ],
             [
              0.4444444444444444,
              "#bd3786"
             ],
             [
              0.5555555555555556,
              "#d8576b"
             ],
             [
              0.6666666666666666,
              "#ed7953"
             ],
             [
              0.7777777777777778,
              "#fb9f3a"
             ],
             [
              0.8888888888888888,
              "#fdca26"
             ],
             [
              1,
              "#f0f921"
             ]
            ],
            "type": "contour"
           }
          ],
          "contourcarpet": [
           {
            "colorbar": {
             "outlinewidth": 0,
             "ticks": ""
            },
            "type": "contourcarpet"
           }
          ],
          "heatmap": [
           {
            "colorbar": {
             "outlinewidth": 0,
             "ticks": ""
            },
            "colorscale": [
             [
              0,
              "#0d0887"
             ],
             [
              0.1111111111111111,
              "#46039f"
             ],
             [
              0.2222222222222222,
              "#7201a8"
             ],
             [
              0.3333333333333333,
              "#9c179e"
             ],
             [
              0.4444444444444444,
              "#bd3786"
             ],
             [
              0.5555555555555556,
              "#d8576b"
             ],
             [
              0.6666666666666666,
              "#ed7953"
             ],
             [
              0.7777777777777778,
              "#fb9f3a"
             ],
             [
              0.8888888888888888,
              "#fdca26"
             ],
             [
              1,
              "#f0f921"
             ]
            ],
            "type": "heatmap"
           }
          ],
          "heatmapgl": [
           {
            "colorbar": {
             "outlinewidth": 0,
             "ticks": ""
            },
            "colorscale": [
             [
              0,
              "#0d0887"
             ],
             [
              0.1111111111111111,
              "#46039f"
             ],
             [
              0.2222222222222222,
              "#7201a8"
             ],
             [
              0.3333333333333333,
              "#9c179e"
             ],
             [
              0.4444444444444444,
              "#bd3786"
             ],
             [
              0.5555555555555556,
              "#d8576b"
             ],
             [
              0.6666666666666666,
              "#ed7953"
             ],
             [
              0.7777777777777778,
              "#fb9f3a"
             ],
             [
              0.8888888888888888,
              "#fdca26"
             ],
             [
              1,
              "#f0f921"
             ]
            ],
            "type": "heatmapgl"
           }
          ],
          "histogram": [
           {
            "marker": {
             "pattern": {
              "fillmode": "overlay",
              "size": 10,
              "solidity": 0.2
             }
            },
            "type": "histogram"
           }
          ],
          "histogram2d": [
           {
            "colorbar": {
             "outlinewidth": 0,
             "ticks": ""
            },
            "colorscale": [
             [
              0,
              "#0d0887"
             ],
             [
              0.1111111111111111,
              "#46039f"
             ],
             [
              0.2222222222222222,
              "#7201a8"
             ],
             [
              0.3333333333333333,
              "#9c179e"
             ],
             [
              0.4444444444444444,
              "#bd3786"
             ],
             [
              0.5555555555555556,
              "#d8576b"
             ],
             [
              0.6666666666666666,
              "#ed7953"
             ],
             [
              0.7777777777777778,
              "#fb9f3a"
             ],
             [
              0.8888888888888888,
              "#fdca26"
             ],
             [
              1,
              "#f0f921"
             ]
            ],
            "type": "histogram2d"
           }
          ],
          "histogram2dcontour": [
           {
            "colorbar": {
             "outlinewidth": 0,
             "ticks": ""
            },
            "colorscale": [
             [
              0,
              "#0d0887"
             ],
             [
              0.1111111111111111,
              "#46039f"
             ],
             [
              0.2222222222222222,
              "#7201a8"
             ],
             [
              0.3333333333333333,
              "#9c179e"
             ],
             [
              0.4444444444444444,
              "#bd3786"
             ],
             [
              0.5555555555555556,
              "#d8576b"
             ],
             [
              0.6666666666666666,
              "#ed7953"
             ],
             [
              0.7777777777777778,
              "#fb9f3a"
             ],
             [
              0.8888888888888888,
              "#fdca26"
             ],
             [
              1,
              "#f0f921"
             ]
            ],
            "type": "histogram2dcontour"
           }
          ],
          "mesh3d": [
           {
            "colorbar": {
             "outlinewidth": 0,
             "ticks": ""
            },
            "type": "mesh3d"
           }
          ],
          "parcoords": [
           {
            "line": {
             "colorbar": {
              "outlinewidth": 0,
              "ticks": ""
             }
            },
            "type": "parcoords"
           }
          ],
          "pie": [
           {
            "automargin": true,
            "type": "pie"
           }
          ],
          "scatter": [
           {
            "fillpattern": {
             "fillmode": "overlay",
             "size": 10,
             "solidity": 0.2
            },
            "type": "scatter"
           }
          ],
          "scatter3d": [
           {
            "line": {
             "colorbar": {
              "outlinewidth": 0,
              "ticks": ""
             }
            },
            "marker": {
             "colorbar": {
              "outlinewidth": 0,
              "ticks": ""
             }
            },
            "type": "scatter3d"
           }
          ],
          "scattercarpet": [
           {
            "marker": {
             "colorbar": {
              "outlinewidth": 0,
              "ticks": ""
             }
            },
            "type": "scattercarpet"
           }
          ],
          "scattergeo": [
           {
            "marker": {
             "colorbar": {
              "outlinewidth": 0,
              "ticks": ""
             }
            },
            "type": "scattergeo"
           }
          ],
          "scattergl": [
           {
            "marker": {
             "colorbar": {
              "outlinewidth": 0,
              "ticks": ""
             }
            },
            "type": "scattergl"
           }
          ],
          "scattermapbox": [
           {
            "marker": {
             "colorbar": {
              "outlinewidth": 0,
              "ticks": ""
             }
            },
            "type": "scattermapbox"
           }
          ],
          "scatterpolar": [
           {
            "marker": {
             "colorbar": {
              "outlinewidth": 0,
              "ticks": ""
             }
            },
            "type": "scatterpolar"
           }
          ],
          "scatterpolargl": [
           {
            "marker": {
             "colorbar": {
              "outlinewidth": 0,
              "ticks": ""
             }
            },
            "type": "scatterpolargl"
           }
          ],
          "scatterternary": [
           {
            "marker": {
             "colorbar": {
              "outlinewidth": 0,
              "ticks": ""
             }
            },
            "type": "scatterternary"
           }
          ],
          "surface": [
           {
            "colorbar": {
             "outlinewidth": 0,
             "ticks": ""
            },
            "colorscale": [
             [
              0,
              "#0d0887"
             ],
             [
              0.1111111111111111,
              "#46039f"
             ],
             [
              0.2222222222222222,
              "#7201a8"
             ],
             [
              0.3333333333333333,
              "#9c179e"
             ],
             [
              0.4444444444444444,
              "#bd3786"
             ],
             [
              0.5555555555555556,
              "#d8576b"
             ],
             [
              0.6666666666666666,
              "#ed7953"
             ],
             [
              0.7777777777777778,
              "#fb9f3a"
             ],
             [
              0.8888888888888888,
              "#fdca26"
             ],
             [
              1,
              "#f0f921"
             ]
            ],
            "type": "surface"
           }
          ],
          "table": [
           {
            "cells": {
             "fill": {
              "color": "#EBF0F8"
             },
             "line": {
              "color": "white"
             }
            },
            "header": {
             "fill": {
              "color": "#C8D4E3"
             },
             "line": {
              "color": "white"
             }
            },
            "type": "table"
           }
          ]
         },
         "layout": {
          "annotationdefaults": {
           "arrowcolor": "#2a3f5f",
           "arrowhead": 0,
           "arrowwidth": 1
          },
          "autotypenumbers": "strict",
          "coloraxis": {
           "colorbar": {
            "outlinewidth": 0,
            "ticks": ""
           }
          },
          "colorscale": {
           "diverging": [
            [
             0,
             "#8e0152"
            ],
            [
             0.1,
             "#c51b7d"
            ],
            [
             0.2,
             "#de77ae"
            ],
            [
             0.3,
             "#f1b6da"
            ],
            [
             0.4,
             "#fde0ef"
            ],
            [
             0.5,
             "#f7f7f7"
            ],
            [
             0.6,
             "#e6f5d0"
            ],
            [
             0.7,
             "#b8e186"
            ],
            [
             0.8,
             "#7fbc41"
            ],
            [
             0.9,
             "#4d9221"
            ],
            [
             1,
             "#276419"
            ]
           ],
           "sequential": [
            [
             0,
             "#0d0887"
            ],
            [
             0.1111111111111111,
             "#46039f"
            ],
            [
             0.2222222222222222,
             "#7201a8"
            ],
            [
             0.3333333333333333,
             "#9c179e"
            ],
            [
             0.4444444444444444,
             "#bd3786"
            ],
            [
             0.5555555555555556,
             "#d8576b"
            ],
            [
             0.6666666666666666,
             "#ed7953"
            ],
            [
             0.7777777777777778,
             "#fb9f3a"
            ],
            [
             0.8888888888888888,
             "#fdca26"
            ],
            [
             1,
             "#f0f921"
            ]
           ],
           "sequentialminus": [
            [
             0,
             "#0d0887"
            ],
            [
             0.1111111111111111,
             "#46039f"
            ],
            [
             0.2222222222222222,
             "#7201a8"
            ],
            [
             0.3333333333333333,
             "#9c179e"
            ],
            [
             0.4444444444444444,
             "#bd3786"
            ],
            [
             0.5555555555555556,
             "#d8576b"
            ],
            [
             0.6666666666666666,
             "#ed7953"
            ],
            [
             0.7777777777777778,
             "#fb9f3a"
            ],
            [
             0.8888888888888888,
             "#fdca26"
            ],
            [
             1,
             "#f0f921"
            ]
           ]
          },
          "colorway": [
           "#636efa",
           "#EF553B",
           "#00cc96",
           "#ab63fa",
           "#FFA15A",
           "#19d3f3",
           "#FF6692",
           "#B6E880",
           "#FF97FF",
           "#FECB52"
          ],
          "font": {
           "color": "#2a3f5f"
          },
          "geo": {
           "bgcolor": "white",
           "lakecolor": "white",
           "landcolor": "#E5ECF6",
           "showlakes": true,
           "showland": true,
           "subunitcolor": "white"
          },
          "hoverlabel": {
           "align": "left"
          },
          "hovermode": "closest",
          "mapbox": {
           "style": "light"
          },
          "paper_bgcolor": "white",
          "plot_bgcolor": "#E5ECF6",
          "polar": {
           "angularaxis": {
            "gridcolor": "white",
            "linecolor": "white",
            "ticks": ""
           },
           "bgcolor": "#E5ECF6",
           "radialaxis": {
            "gridcolor": "white",
            "linecolor": "white",
            "ticks": ""
           }
          },
          "scene": {
           "xaxis": {
            "backgroundcolor": "#E5ECF6",
            "gridcolor": "white",
            "gridwidth": 2,
            "linecolor": "white",
            "showbackground": true,
            "ticks": "",
            "zerolinecolor": "white"
           },
           "yaxis": {
            "backgroundcolor": "#E5ECF6",
            "gridcolor": "white",
            "gridwidth": 2,
            "linecolor": "white",
            "showbackground": true,
            "ticks": "",
            "zerolinecolor": "white"
           },
           "zaxis": {
            "backgroundcolor": "#E5ECF6",
            "gridcolor": "white",
            "gridwidth": 2,
            "linecolor": "white",
            "showbackground": true,
            "ticks": "",
            "zerolinecolor": "white"
           }
          },
          "shapedefaults": {
           "line": {
            "color": "#2a3f5f"
           }
          },
          "ternary": {
           "aaxis": {
            "gridcolor": "white",
            "linecolor": "white",
            "ticks": ""
           },
           "baxis": {
            "gridcolor": "white",
            "linecolor": "white",
            "ticks": ""
           },
           "bgcolor": "#E5ECF6",
           "caxis": {
            "gridcolor": "white",
            "linecolor": "white",
            "ticks": ""
           }
          },
          "title": {
           "x": 0.05
          },
          "xaxis": {
           "automargin": true,
           "gridcolor": "white",
           "linecolor": "white",
           "ticks": "",
           "title": {
            "standoff": 15
           },
           "zerolinecolor": "white",
           "zerolinewidth": 2
          },
          "yaxis": {
           "automargin": true,
           "gridcolor": "white",
           "linecolor": "white",
           "ticks": "",
           "title": {
            "standoff": 15
           },
           "zerolinecolor": "white",
           "zerolinewidth": 2
          }
         }
        }
       }
      }
     },
     "metadata": {},
     "output_type": "display_data"
    }
   ],
   "source": [
    "important = create_important_table(data)\n",
    "important['figure']"
   ]
  },
  {
   "cell_type": "code",
   "execution_count": 119,
   "metadata": {},
   "outputs": [
    {
     "data": {
      "application/vnd.plotly.v1+json": {
       "config": {
        "plotlyServerURL": "https://plot.ly"
       },
       "data": [
        {
         "cells": {
          "align": "left",
          "fill": {
           "color": "whitesmoke"
          },
          "values": [
           [
            "AAPL",
            "MSFT"
           ],
           [
            "Consumer Electronics",
            "Software - Infrastructure"
           ],
           [
            "buy",
            "strong_buy"
           ],
           [
            1.24,
            0.904
           ],
           [
            1,
            3
           ],
           [
            "3432.55B",
            "3156.70B"
           ],
           [
            "391.03B",
            "254.19B"
           ],
           [
            "93.74B",
            "90.51B"
           ],
           [
            "23.97%",
            "35.61%"
           ],
           [
            "180.68B",
            "176.28B"
           ]
          ]
         },
         "header": {
          "align": "left",
          "fill": {
           "color": "lightgrey"
          },
          "values": [
           "Ticker",
           "Industry",
           "Analyst Recommendation",
           "Beta",
           "Overall Risk Score",
           "Market Cap",
           "Total Revenue",
           "Net Profit",
           "Profit Margins",
           "Gross Profit"
          ]
         },
         "type": "table"
        }
       ],
       "layout": {
        "template": {
         "data": {
          "bar": [
           {
            "error_x": {
             "color": "#2a3f5f"
            },
            "error_y": {
             "color": "#2a3f5f"
            },
            "marker": {
             "line": {
              "color": "#E5ECF6",
              "width": 0.5
             },
             "pattern": {
              "fillmode": "overlay",
              "size": 10,
              "solidity": 0.2
             }
            },
            "type": "bar"
           }
          ],
          "barpolar": [
           {
            "marker": {
             "line": {
              "color": "#E5ECF6",
              "width": 0.5
             },
             "pattern": {
              "fillmode": "overlay",
              "size": 10,
              "solidity": 0.2
             }
            },
            "type": "barpolar"
           }
          ],
          "carpet": [
           {
            "aaxis": {
             "endlinecolor": "#2a3f5f",
             "gridcolor": "white",
             "linecolor": "white",
             "minorgridcolor": "white",
             "startlinecolor": "#2a3f5f"
            },
            "baxis": {
             "endlinecolor": "#2a3f5f",
             "gridcolor": "white",
             "linecolor": "white",
             "minorgridcolor": "white",
             "startlinecolor": "#2a3f5f"
            },
            "type": "carpet"
           }
          ],
          "choropleth": [
           {
            "colorbar": {
             "outlinewidth": 0,
             "ticks": ""
            },
            "type": "choropleth"
           }
          ],
          "contour": [
           {
            "colorbar": {
             "outlinewidth": 0,
             "ticks": ""
            },
            "colorscale": [
             [
              0,
              "#0d0887"
             ],
             [
              0.1111111111111111,
              "#46039f"
             ],
             [
              0.2222222222222222,
              "#7201a8"
             ],
             [
              0.3333333333333333,
              "#9c179e"
             ],
             [
              0.4444444444444444,
              "#bd3786"
             ],
             [
              0.5555555555555556,
              "#d8576b"
             ],
             [
              0.6666666666666666,
              "#ed7953"
             ],
             [
              0.7777777777777778,
              "#fb9f3a"
             ],
             [
              0.8888888888888888,
              "#fdca26"
             ],
             [
              1,
              "#f0f921"
             ]
            ],
            "type": "contour"
           }
          ],
          "contourcarpet": [
           {
            "colorbar": {
             "outlinewidth": 0,
             "ticks": ""
            },
            "type": "contourcarpet"
           }
          ],
          "heatmap": [
           {
            "colorbar": {
             "outlinewidth": 0,
             "ticks": ""
            },
            "colorscale": [
             [
              0,
              "#0d0887"
             ],
             [
              0.1111111111111111,
              "#46039f"
             ],
             [
              0.2222222222222222,
              "#7201a8"
             ],
             [
              0.3333333333333333,
              "#9c179e"
             ],
             [
              0.4444444444444444,
              "#bd3786"
             ],
             [
              0.5555555555555556,
              "#d8576b"
             ],
             [
              0.6666666666666666,
              "#ed7953"
             ],
             [
              0.7777777777777778,
              "#fb9f3a"
             ],
             [
              0.8888888888888888,
              "#fdca26"
             ],
             [
              1,
              "#f0f921"
             ]
            ],
            "type": "heatmap"
           }
          ],
          "heatmapgl": [
           {
            "colorbar": {
             "outlinewidth": 0,
             "ticks": ""
            },
            "colorscale": [
             [
              0,
              "#0d0887"
             ],
             [
              0.1111111111111111,
              "#46039f"
             ],
             [
              0.2222222222222222,
              "#7201a8"
             ],
             [
              0.3333333333333333,
              "#9c179e"
             ],
             [
              0.4444444444444444,
              "#bd3786"
             ],
             [
              0.5555555555555556,
              "#d8576b"
             ],
             [
              0.6666666666666666,
              "#ed7953"
             ],
             [
              0.7777777777777778,
              "#fb9f3a"
             ],
             [
              0.8888888888888888,
              "#fdca26"
             ],
             [
              1,
              "#f0f921"
             ]
            ],
            "type": "heatmapgl"
           }
          ],
          "histogram": [
           {
            "marker": {
             "pattern": {
              "fillmode": "overlay",
              "size": 10,
              "solidity": 0.2
             }
            },
            "type": "histogram"
           }
          ],
          "histogram2d": [
           {
            "colorbar": {
             "outlinewidth": 0,
             "ticks": ""
            },
            "colorscale": [
             [
              0,
              "#0d0887"
             ],
             [
              0.1111111111111111,
              "#46039f"
             ],
             [
              0.2222222222222222,
              "#7201a8"
             ],
             [
              0.3333333333333333,
              "#9c179e"
             ],
             [
              0.4444444444444444,
              "#bd3786"
             ],
             [
              0.5555555555555556,
              "#d8576b"
             ],
             [
              0.6666666666666666,
              "#ed7953"
             ],
             [
              0.7777777777777778,
              "#fb9f3a"
             ],
             [
              0.8888888888888888,
              "#fdca26"
             ],
             [
              1,
              "#f0f921"
             ]
            ],
            "type": "histogram2d"
           }
          ],
          "histogram2dcontour": [
           {
            "colorbar": {
             "outlinewidth": 0,
             "ticks": ""
            },
            "colorscale": [
             [
              0,
              "#0d0887"
             ],
             [
              0.1111111111111111,
              "#46039f"
             ],
             [
              0.2222222222222222,
              "#7201a8"
             ],
             [
              0.3333333333333333,
              "#9c179e"
             ],
             [
              0.4444444444444444,
              "#bd3786"
             ],
             [
              0.5555555555555556,
              "#d8576b"
             ],
             [
              0.6666666666666666,
              "#ed7953"
             ],
             [
              0.7777777777777778,
              "#fb9f3a"
             ],
             [
              0.8888888888888888,
              "#fdca26"
             ],
             [
              1,
              "#f0f921"
             ]
            ],
            "type": "histogram2dcontour"
           }
          ],
          "mesh3d": [
           {
            "colorbar": {
             "outlinewidth": 0,
             "ticks": ""
            },
            "type": "mesh3d"
           }
          ],
          "parcoords": [
           {
            "line": {
             "colorbar": {
              "outlinewidth": 0,
              "ticks": ""
             }
            },
            "type": "parcoords"
           }
          ],
          "pie": [
           {
            "automargin": true,
            "type": "pie"
           }
          ],
          "scatter": [
           {
            "fillpattern": {
             "fillmode": "overlay",
             "size": 10,
             "solidity": 0.2
            },
            "type": "scatter"
           }
          ],
          "scatter3d": [
           {
            "line": {
             "colorbar": {
              "outlinewidth": 0,
              "ticks": ""
             }
            },
            "marker": {
             "colorbar": {
              "outlinewidth": 0,
              "ticks": ""
             }
            },
            "type": "scatter3d"
           }
          ],
          "scattercarpet": [
           {
            "marker": {
             "colorbar": {
              "outlinewidth": 0,
              "ticks": ""
             }
            },
            "type": "scattercarpet"
           }
          ],
          "scattergeo": [
           {
            "marker": {
             "colorbar": {
              "outlinewidth": 0,
              "ticks": ""
             }
            },
            "type": "scattergeo"
           }
          ],
          "scattergl": [
           {
            "marker": {
             "colorbar": {
              "outlinewidth": 0,
              "ticks": ""
             }
            },
            "type": "scattergl"
           }
          ],
          "scattermapbox": [
           {
            "marker": {
             "colorbar": {
              "outlinewidth": 0,
              "ticks": ""
             }
            },
            "type": "scattermapbox"
           }
          ],
          "scatterpolar": [
           {
            "marker": {
             "colorbar": {
              "outlinewidth": 0,
              "ticks": ""
             }
            },
            "type": "scatterpolar"
           }
          ],
          "scatterpolargl": [
           {
            "marker": {
             "colorbar": {
              "outlinewidth": 0,
              "ticks": ""
             }
            },
            "type": "scatterpolargl"
           }
          ],
          "scatterternary": [
           {
            "marker": {
             "colorbar": {
              "outlinewidth": 0,
              "ticks": ""
             }
            },
            "type": "scatterternary"
           }
          ],
          "surface": [
           {
            "colorbar": {
             "outlinewidth": 0,
             "ticks": ""
            },
            "colorscale": [
             [
              0,
              "#0d0887"
             ],
             [
              0.1111111111111111,
              "#46039f"
             ],
             [
              0.2222222222222222,
              "#7201a8"
             ],
             [
              0.3333333333333333,
              "#9c179e"
             ],
             [
              0.4444444444444444,
              "#bd3786"
             ],
             [
              0.5555555555555556,
              "#d8576b"
             ],
             [
              0.6666666666666666,
              "#ed7953"
             ],
             [
              0.7777777777777778,
              "#fb9f3a"
             ],
             [
              0.8888888888888888,
              "#fdca26"
             ],
             [
              1,
              "#f0f921"
             ]
            ],
            "type": "surface"
           }
          ],
          "table": [
           {
            "cells": {
             "fill": {
              "color": "#EBF0F8"
             },
             "line": {
              "color": "white"
             }
            },
            "header": {
             "fill": {
              "color": "#C8D4E3"
             },
             "line": {
              "color": "white"
             }
            },
            "type": "table"
           }
          ]
         },
         "layout": {
          "annotationdefaults": {
           "arrowcolor": "#2a3f5f",
           "arrowhead": 0,
           "arrowwidth": 1
          },
          "autotypenumbers": "strict",
          "coloraxis": {
           "colorbar": {
            "outlinewidth": 0,
            "ticks": ""
           }
          },
          "colorscale": {
           "diverging": [
            [
             0,
             "#8e0152"
            ],
            [
             0.1,
             "#c51b7d"
            ],
            [
             0.2,
             "#de77ae"
            ],
            [
             0.3,
             "#f1b6da"
            ],
            [
             0.4,
             "#fde0ef"
            ],
            [
             0.5,
             "#f7f7f7"
            ],
            [
             0.6,
             "#e6f5d0"
            ],
            [
             0.7,
             "#b8e186"
            ],
            [
             0.8,
             "#7fbc41"
            ],
            [
             0.9,
             "#4d9221"
            ],
            [
             1,
             "#276419"
            ]
           ],
           "sequential": [
            [
             0,
             "#0d0887"
            ],
            [
             0.1111111111111111,
             "#46039f"
            ],
            [
             0.2222222222222222,
             "#7201a8"
            ],
            [
             0.3333333333333333,
             "#9c179e"
            ],
            [
             0.4444444444444444,
             "#bd3786"
            ],
            [
             0.5555555555555556,
             "#d8576b"
            ],
            [
             0.6666666666666666,
             "#ed7953"
            ],
            [
             0.7777777777777778,
             "#fb9f3a"
            ],
            [
             0.8888888888888888,
             "#fdca26"
            ],
            [
             1,
             "#f0f921"
            ]
           ],
           "sequentialminus": [
            [
             0,
             "#0d0887"
            ],
            [
             0.1111111111111111,
             "#46039f"
            ],
            [
             0.2222222222222222,
             "#7201a8"
            ],
            [
             0.3333333333333333,
             "#9c179e"
            ],
            [
             0.4444444444444444,
             "#bd3786"
            ],
            [
             0.5555555555555556,
             "#d8576b"
            ],
            [
             0.6666666666666666,
             "#ed7953"
            ],
            [
             0.7777777777777778,
             "#fb9f3a"
            ],
            [
             0.8888888888888888,
             "#fdca26"
            ],
            [
             1,
             "#f0f921"
            ]
           ]
          },
          "colorway": [
           "#636efa",
           "#EF553B",
           "#00cc96",
           "#ab63fa",
           "#FFA15A",
           "#19d3f3",
           "#FF6692",
           "#B6E880",
           "#FF97FF",
           "#FECB52"
          ],
          "font": {
           "color": "#2a3f5f"
          },
          "geo": {
           "bgcolor": "white",
           "lakecolor": "white",
           "landcolor": "#E5ECF6",
           "showlakes": true,
           "showland": true,
           "subunitcolor": "white"
          },
          "hoverlabel": {
           "align": "left"
          },
          "hovermode": "closest",
          "mapbox": {
           "style": "light"
          },
          "paper_bgcolor": "white",
          "plot_bgcolor": "#E5ECF6",
          "polar": {
           "angularaxis": {
            "gridcolor": "white",
            "linecolor": "white",
            "ticks": ""
           },
           "bgcolor": "#E5ECF6",
           "radialaxis": {
            "gridcolor": "white",
            "linecolor": "white",
            "ticks": ""
           }
          },
          "scene": {
           "xaxis": {
            "backgroundcolor": "#E5ECF6",
            "gridcolor": "white",
            "gridwidth": 2,
            "linecolor": "white",
            "showbackground": true,
            "ticks": "",
            "zerolinecolor": "white"
           },
           "yaxis": {
            "backgroundcolor": "#E5ECF6",
            "gridcolor": "white",
            "gridwidth": 2,
            "linecolor": "white",
            "showbackground": true,
            "ticks": "",
            "zerolinecolor": "white"
           },
           "zaxis": {
            "backgroundcolor": "#E5ECF6",
            "gridcolor": "white",
            "gridwidth": 2,
            "linecolor": "white",
            "showbackground": true,
            "ticks": "",
            "zerolinecolor": "white"
           }
          },
          "shapedefaults": {
           "line": {
            "color": "#2a3f5f"
           }
          },
          "ternary": {
           "aaxis": {
            "gridcolor": "white",
            "linecolor": "white",
            "ticks": ""
           },
           "baxis": {
            "gridcolor": "white",
            "linecolor": "white",
            "ticks": ""
           },
           "bgcolor": "#E5ECF6",
           "caxis": {
            "gridcolor": "white",
            "linecolor": "white",
            "ticks": ""
           }
          },
          "title": {
           "x": 0.05
          },
          "xaxis": {
           "automargin": true,
           "gridcolor": "white",
           "linecolor": "white",
           "ticks": "",
           "title": {
            "standoff": 15
           },
           "zerolinecolor": "white",
           "zerolinewidth": 2
          },
          "yaxis": {
           "automargin": true,
           "gridcolor": "white",
           "linecolor": "white",
           "ticks": "",
           "title": {
            "standoff": 15
           },
           "zerolinecolor": "white",
           "zerolinewidth": 2
          }
         }
        }
       }
      }
     },
     "metadata": {},
     "output_type": "display_data"
    }
   ],
   "source": [
    "additional = create_additional_table(data)\n",
    "additional['figure']"
   ]
  },
  {
   "cell_type": "markdown",
   "metadata": {},
   "source": [
    "### Report Generation"
   ]
  },
  {
   "cell_type": "code",
   "execution_count": 5,
   "metadata": {},
   "outputs": [],
   "source": [
    "def generate_html_report(data, output_file=\"final_report.html\"):\n",
    "    \"\"\"\n",
    "    Generate an HTML report by combining outputs of various functions and write it to a single file.\n",
    "\n",
    "    Args:\n",
    "        data (dict): Stock data to be passed to the individual functions.\n",
    "        output_file (str): The path to save the final HTML report.\n",
    "\n",
    "    Returns:\n",
    "        str: The file path of the generated HTML report.\n",
    "    \"\"\"\n",
    "    # Generate HTML outputs for individual sections\n",
    "    html_inputs = {\n",
    "        \"Stock Price Chart\": create_individual_graph(data)[\"html_url\"],\n",
    "        \"News Table\": create_news_table(data)[\"html_url\"],\n",
    "        \"Finances Table\": create_finances_table(data)[\"html_url\"],\n",
    "        \"Important Metrics Table\": create_important_table(data)[\"html_url\"],\n",
    "        \"Additional Metrics Table\": create_additional_table(data)[\"html_url\"],\n",
    "    }\n",
    "\n",
    "    # Start building the HTML report\n",
    "    html_report = \"\"\"\n",
    "    <!DOCTYPE html>\n",
    "    <html>\n",
    "    <head>\n",
    "        <title>Stock Analysis Report</title>\n",
    "        <style>\n",
    "            body { font-family: Arial, sans-serif; margin: 20px; }\n",
    "            h1 { text-align: center; }\n",
    "            section { margin-bottom: 40px; }\n",
    "            iframe { width: 100%; height: 600px; border: none; }\n",
    "        </style>\n",
    "    </head>\n",
    "    <body>\n",
    "        <h1>Stock Analysis Report</h1>\n",
    "    \"\"\"\n",
    "\n",
    "    # Add each HTML file as an iframe\n",
    "    for idx, (title, html_file) in enumerate(html_inputs.items(), 1):\n",
    "        html_report += f\"\"\"\n",
    "        <section>\n",
    "            <h2>{title}</h2>\n",
    "            <iframe src=\"{html_file}\"></iframe>\n",
    "        </section>\n",
    "        \"\"\"\n",
    "\n",
    "    # Close the HTML tags\n",
    "    html_report += \"\"\"\n",
    "    </body>\n",
    "    </html>\n",
    "    \"\"\"\n",
    "\n",
    "    # Write the final HTML report to a file\n",
    "    with open(output_file, \"w\") as file:\n",
    "        file.write(html_report)\n",
    "\n",
    "    return output_file\n"
   ]
  },
  {
   "cell_type": "code",
   "execution_count": 129,
   "metadata": {},
   "outputs": [],
   "source": [
    "report = generate_html_report(data)"
   ]
  },
  {
   "cell_type": "markdown",
   "metadata": {},
   "source": [
    "### GUI Workflow"
   ]
  },
  {
   "cell_type": "code",
   "execution_count": null,
   "metadata": {},
   "outputs": [
    {
     "name": "stderr",
     "output_type": "stream",
     "text": [
      "[*********************100%***********************]  1 of 1 completed\n",
      "[*********************100%***********************]  1 of 1 completed\n"
     ]
    },
    {
     "ename": "",
     "evalue": "",
     "output_type": "error",
     "traceback": [
      "\u001b[1;31mThe Kernel crashed while executing code in the current cell or a previous cell. \n",
      "\u001b[1;31mPlease review the code in the cell(s) to identify a possible cause of the failure. \n",
      "\u001b[1;31mClick <a href='https://aka.ms/vscodeJupyterKernelCrash'>here</a> for more info. \n",
      "\u001b[1;31mView Jupyter <a href='command:jupyter.viewOutput'>log</a> for further details."
     ]
    }
   ],
   "source": [
    "import tkinter as tk\n",
    "from tkinter import simpledialog, messagebox\n",
    "import os\n",
    "\n",
    "def gui_workflow():\n",
    "    \"\"\"\n",
    "    GUI-based workflow to fetch data, process it, and generate an HTML report.\n",
    "    \"\"\"\n",
    "    # Create the root window\n",
    "    root = tk.Tk()\n",
    "    root.withdraw()  # Hide the root window\n",
    "\n",
    "    # Step 1: Get user input through dialogs\n",
    "    tickers = simpledialog.askstring(\"Input Tickers\", \"Enter stock tickers (comma-separated):\")\n",
    "    start_date = simpledialog.askstring(\"Input Start Date\", \"Enter start date (YYYY-MM-DD):\")\n",
    "    end_date = simpledialog.askstring(\"Input End Date\", \"Enter end date (YYYY-MM-DD):\")\n",
    "    interval = simpledialog.askstring(\"Input Time Interval\", \"Enter time interval (30m, 60m, 1d, 1wk, 1mo) \")\n",
    "\n",
    "    # Step 2: Fetch and process data\n",
    "    raw_data = fetch_stock_data(tickers.split(\",\"), start_date, end_date)\n",
    "    data = correct_stock_data(raw_data)\n",
    "\n",
    "    # Step 3: Generate HTML report\n",
    "    output_path = \"final_report.html\"\n",
    "    report_path = generate_html_report(data, output_file=output_path)\n",
    "\n",
    "    # Display success message\n",
    "    messagebox.showinfo(\"Success\", f\"HTML report generated successfully: {os.path.abspath(report_path)}\")\n",
    "\n",
    "if __name__ == \"__main__\":\n",
    "    gui_workflow()\n"
   ]
  },
  {
   "cell_type": "code",
   "execution_count": 144,
   "metadata": {},
   "outputs": [
    {
     "data": {
      "text/plain": [
       "{'address1': 'One Apple Park Way',\n",
       " 'city': 'Cupertino',\n",
       " 'state': 'CA',\n",
       " 'zip': '95014',\n",
       " 'country': 'United States',\n",
       " 'phone': '(408) 996-1010',\n",
       " 'website': 'https://www.apple.com',\n",
       " 'industry': 'Consumer Electronics',\n",
       " 'industryKey': 'consumer-electronics',\n",
       " 'industryDisp': 'Consumer Electronics',\n",
       " 'sector': 'Technology',\n",
       " 'sectorKey': 'technology',\n",
       " 'sectorDisp': 'Technology',\n",
       " 'longBusinessSummary': 'Apple Inc. designs, manufactures, and markets smartphones, personal computers, tablets, wearables, and accessories worldwide. The company offers iPhone, a line of smartphones; Mac, a line of personal computers; iPad, a line of multi-purpose tablets; and wearables, home, and accessories comprising AirPods, Apple TV, Apple Watch, Beats products, and HomePod. It also provides AppleCare support and cloud services; and operates various platforms, including the App Store that allow customers to discover and download applications and digital content, such as books, music, video, games, and podcasts, as well as advertising services include third-party licensing arrangements and its own advertising platforms. In addition, the company offers various subscription-based services, such as Apple Arcade, a game subscription service; Apple Fitness+, a personalized fitness service; Apple Music, which offers users a curated listening experience with on-demand radio stations; Apple News+, a subscription news and magazine service; Apple TV+, which offers exclusive original content; Apple Card, a co-branded credit card; and Apple Pay, a cashless payment service, as well as licenses its intellectual property. The company serves consumers, and small and mid-sized businesses; and the education, enterprise, and government markets. It distributes third-party applications for its products through the App Store. The company also sells its products through its retail and online stores, and direct sales force; and third-party cellular network carriers, wholesalers, retailers, and resellers. Apple Inc. was founded in 1976 and is headquartered in Cupertino, California.',\n",
       " 'fullTimeEmployees': 164000,\n",
       " 'companyOfficers': [{'maxAge': 1,\n",
       "   'name': 'Mr. Timothy D. Cook',\n",
       "   'age': 62,\n",
       "   'title': 'CEO & Director',\n",
       "   'yearBorn': 1961,\n",
       "   'fiscalYear': 2023,\n",
       "   'totalPay': 16239562,\n",
       "   'exercisedValue': 0,\n",
       "   'unexercisedValue': 0},\n",
       "  {'maxAge': 1,\n",
       "   'name': 'Mr. Luca  Maestri',\n",
       "   'age': 60,\n",
       "   'title': 'CFO & Senior VP',\n",
       "   'yearBorn': 1963,\n",
       "   'fiscalYear': 2023,\n",
       "   'totalPay': 4612242,\n",
       "   'exercisedValue': 0,\n",
       "   'unexercisedValue': 0},\n",
       "  {'maxAge': 1,\n",
       "   'name': 'Mr. Jeffrey E. Williams',\n",
       "   'age': 59,\n",
       "   'title': 'Chief Operating Officer',\n",
       "   'yearBorn': 1964,\n",
       "   'fiscalYear': 2023,\n",
       "   'totalPay': 4637585,\n",
       "   'exercisedValue': 0,\n",
       "   'unexercisedValue': 0},\n",
       "  {'maxAge': 1,\n",
       "   'name': 'Ms. Katherine L. Adams',\n",
       "   'age': 59,\n",
       "   'title': 'Senior VP, General Counsel & Secretary',\n",
       "   'yearBorn': 1964,\n",
       "   'fiscalYear': 2023,\n",
       "   'totalPay': 4618064,\n",
       "   'exercisedValue': 0,\n",
       "   'unexercisedValue': 0},\n",
       "  {'maxAge': 1,\n",
       "   'name': \"Ms. Deirdre  O'Brien\",\n",
       "   'age': 56,\n",
       "   'title': 'Chief People Officer & Senior VP of Retail',\n",
       "   'yearBorn': 1967,\n",
       "   'fiscalYear': 2023,\n",
       "   'totalPay': 4613369,\n",
       "   'exercisedValue': 0,\n",
       "   'unexercisedValue': 0},\n",
       "  {'maxAge': 1,\n",
       "   'name': 'Mr. Chris  Kondo',\n",
       "   'title': 'Senior Director of Corporate Accounting',\n",
       "   'fiscalYear': 2023,\n",
       "   'exercisedValue': 0,\n",
       "   'unexercisedValue': 0},\n",
       "  {'maxAge': 1,\n",
       "   'name': 'Suhasini  Chandramouli',\n",
       "   'title': 'Director of Investor Relations',\n",
       "   'fiscalYear': 2023,\n",
       "   'exercisedValue': 0,\n",
       "   'unexercisedValue': 0},\n",
       "  {'maxAge': 1,\n",
       "   'name': 'Mr. Greg  Joswiak',\n",
       "   'title': 'Senior Vice President of Worldwide Marketing',\n",
       "   'fiscalYear': 2023,\n",
       "   'exercisedValue': 0,\n",
       "   'unexercisedValue': 0},\n",
       "  {'maxAge': 1,\n",
       "   'name': 'Mr. Adrian  Perica',\n",
       "   'age': 49,\n",
       "   'title': 'Head of Corporate Development',\n",
       "   'yearBorn': 1974,\n",
       "   'fiscalYear': 2023,\n",
       "   'exercisedValue': 0,\n",
       "   'unexercisedValue': 0},\n",
       "  {'maxAge': 1,\n",
       "   'name': 'Mr. Michael  Fenger',\n",
       "   'title': 'VP of Worldwide Sales',\n",
       "   'fiscalYear': 2023,\n",
       "   'exercisedValue': 0,\n",
       "   'unexercisedValue': 0}],\n",
       " 'auditRisk': 6,\n",
       " 'boardRisk': 1,\n",
       " 'compensationRisk': 2,\n",
       " 'shareHolderRightsRisk': 1,\n",
       " 'overallRisk': 1,\n",
       " 'governanceEpochDate': 1733011200,\n",
       " 'compensationAsOfEpochDate': 1703980800,\n",
       " 'irWebsite': 'http://investor.apple.com/',\n",
       " 'maxAge': 86400,\n",
       " 'priceHint': 2,\n",
       " 'previousClose': 243.04,\n",
       " 'open': 242.87,\n",
       " 'dayLow': 242.08,\n",
       " 'dayHigh': 244.63,\n",
       " 'regularMarketPreviousClose': 243.04,\n",
       " 'regularMarketOpen': 242.87,\n",
       " 'regularMarketDayLow': 242.08,\n",
       " 'regularMarketDayHigh': 244.63,\n",
       " 'dividendRate': 1.0,\n",
       " 'dividendYield': 0.0041,\n",
       " 'exDividendDate': 1731024000,\n",
       " 'payoutRatio': 0.1612,\n",
       " 'fiveYearAvgDividendYield': 0.62,\n",
       " 'beta': 1.24,\n",
       " 'trailingPE': 40.006588,\n",
       " 'forwardPE': 29.23043,\n",
       " 'volume': 35758824,\n",
       " 'regularMarketVolume': 35758824,\n",
       " 'averageVolume': 48183057,\n",
       " 'averageVolume10days': 44455510,\n",
       " 'averageDailyVolume10Day': 44455510,\n",
       " 'bid': 230.68,\n",
       " 'ask': 242.96,\n",
       " 'bidSize': 100,\n",
       " 'askSize': 400,\n",
       " 'marketCap': 3670720643072,\n",
       " 'fiftyTwoWeekLow': 164.08,\n",
       " 'fiftyTwoWeekHigh': 244.63,\n",
       " 'priceToSalesTrailing12Months': 9.387192,\n",
       " 'fiftyDayAverage': 230.3884,\n",
       " 'twoHundredDayAverage': 207.31,\n",
       " 'trailingAnnualDividendRate': 0.98,\n",
       " 'trailingAnnualDividendYield': 0.0040322584,\n",
       " 'currency': 'USD',\n",
       " 'enterpriseValue': 3724614565888,\n",
       " 'profitMargins': 0.23971,\n",
       " 'floatShares': 15091184209,\n",
       " 'sharesOutstanding': 15115799552,\n",
       " 'sharesShort': 141037864,\n",
       " 'sharesShortPriorMonth': 140919653,\n",
       " 'sharesShortPreviousMonthDate': 1728950400,\n",
       " 'dateShortInterest': 1731628800,\n",
       " 'sharesPercentSharesOut': 0.0093,\n",
       " 'heldPercentInsiders': 0.02056,\n",
       " 'heldPercentInstitutions': 0.61929,\n",
       " 'shortRatio': 3.21,\n",
       " 'shortPercentOfFloat': 0.0093,\n",
       " 'impliedSharesOutstanding': 15332100096,\n",
       " 'bookValue': 3.767,\n",
       " 'priceToBook': 64.46509,\n",
       " 'lastFiscalYearEnd': 1727481600,\n",
       " 'nextFiscalYearEnd': 1759017600,\n",
       " 'mostRecentQuarter': 1727481600,\n",
       " 'earningsQuarterlyGrowth': -0.358,\n",
       " 'netIncomeToCommon': 93736001536,\n",
       " 'trailingEps': 6.07,\n",
       " 'forwardEps': 8.31,\n",
       " 'lastSplitFactor': '4:1',\n",
       " 'lastSplitDate': 1598832000,\n",
       " 'enterpriseToRevenue': 9.525,\n",
       " 'enterpriseToEbitda': 27.659,\n",
       " '52WeekChange': 0.2570659,\n",
       " 'SandP52WeekChange': 0.31754446,\n",
       " 'lastDividendValue': 0.25,\n",
       " 'lastDividendDate': 1731024000,\n",
       " 'exchange': 'NMS',\n",
       " 'quoteType': 'EQUITY',\n",
       " 'symbol': 'AAPL',\n",
       " 'underlyingSymbol': 'AAPL',\n",
       " 'shortName': 'Apple Inc.',\n",
       " 'longName': 'Apple Inc.',\n",
       " 'firstTradeDateEpochUtc': 345479400,\n",
       " 'timeZoneFullName': 'America/New_York',\n",
       " 'timeZoneShortName': 'EST',\n",
       " 'uuid': '8b10e4ae-9eeb-3684-921a-9ab27e4d87aa',\n",
       " 'messageBoardId': 'finmb_24937',\n",
       " 'gmtOffSetMilliseconds': -18000000,\n",
       " 'currentPrice': 242.84,\n",
       " 'targetHighPrice': 300.0,\n",
       " 'targetLowPrice': 184.0,\n",
       " 'targetMeanPrice': 244.47739,\n",
       " 'targetMedianPrice': 250.0,\n",
       " 'recommendationMean': 1.89362,\n",
       " 'recommendationKey': 'buy',\n",
       " 'numberOfAnalystOpinions': 42,\n",
       " 'totalCash': 65171001344,\n",
       " 'totalCashPerShare': 4.311,\n",
       " 'ebitda': 134660997120,\n",
       " 'totalDebt': 119058997248,\n",
       " 'quickRatio': 0.745,\n",
       " 'currentRatio': 0.867,\n",
       " 'totalRevenue': 391034994688,\n",
       " 'debtToEquity': 209.059,\n",
       " 'revenuePerShare': 25.485,\n",
       " 'returnOnAssets': 0.21464,\n",
       " 'returnOnEquity': 1.5741299,\n",
       " 'freeCashflow': 110846001152,\n",
       " 'operatingCashflow': 118254002176,\n",
       " 'earningsGrowth': -0.341,\n",
       " 'revenueGrowth': 0.061,\n",
       " 'grossMargins': 0.46206,\n",
       " 'ebitdaMargins': 0.34437,\n",
       " 'operatingMargins': 0.31171,\n",
       " 'financialCurrency': 'USD',\n",
       " 'trailingPegRatio': 2.5091}"
      ]
     },
     "execution_count": 144,
     "metadata": {},
     "output_type": "execute_result"
    }
   ],
   "source": [
    "ticker.info"
   ]
  },
  {
   "cell_type": "code",
   "execution_count": 141,
   "metadata": {},
   "outputs": [
    {
     "data": {
      "text/plain": [
       "[{'uuid': '4205eaa9-f620-3a0b-a81a-0e82c7c9fd0b',\n",
       "  'title': 'Magnificent Seven Stocks: Nvidia Stock Extends Rally; Amazon, Tesla Hit New Highs',\n",
       "  'publisher': \"Investor's Business Daily\",\n",
       "  'link': 'https://finance.yahoo.com/m/4205eaa9-f620-3a0b-a81a-0e82c7c9fd0b/magnificent-seven-stocks%3A.html',\n",
       "  'providerPublishTime': 1733420922,\n",
       "  'type': 'STORY',\n",
       "  'thumbnail': {'resolutions': [{'url': 'https://s.yimg.com/uu/api/res/1.2/ioB_fyxV7Zn4zyY.eCcinA--~B/aD01NjM7dz0xMDAwO2FwcGlkPXl0YWNoeW9u/https://media.zenfs.com/en/ibd.com/ad2ae2e036e85be47f2c44af5d34923d',\n",
       "     'width': 1000,\n",
       "     'height': 563,\n",
       "     'tag': 'original'},\n",
       "    {'url': 'https://s.yimg.com/uu/api/res/1.2/wsc.KBRTJJlBxNK8WieAEQ--~B/Zmk9ZmlsbDtoPTE0MDtweW9mZj0wO3c9MTQwO2FwcGlkPXl0YWNoeW9u/https://media.zenfs.com/en/ibd.com/ad2ae2e036e85be47f2c44af5d34923d',\n",
       "     'width': 140,\n",
       "     'height': 140,\n",
       "     'tag': '140x140'}]},\n",
       "  'relatedTickers': ['NVDA', 'AAPL', 'TSLA', 'META', 'MSFT']},\n",
       " {'uuid': '5ab5e48a-baa5-3c5b-af5a-548d2d00007b',\n",
       "  'title': \"Apple's AI Future: Tim Cook Talks Privacy, ChatGPT, and the Vision Pro\",\n",
       "  'publisher': 'GuruFocus.com',\n",
       "  'link': 'https://finance.yahoo.com/news/apples-ai-future-tim-cook-164111158.html',\n",
       "  'providerPublishTime': 1733416871,\n",
       "  'type': 'STORY',\n",
       "  'thumbnail': {'resolutions': [{'url': 'https://s.yimg.com/uu/api/res/1.2/IQ44q9_Wy6B.Aez9iph9.Q--~B/aD00MDA7dz00MDA7YXBwaWQ9eXRhY2h5b24-/https://media.zenfs.com/en/us.finance.gurufocus/d20a3b67b283824e6c758361da423604',\n",
       "     'width': 400,\n",
       "     'height': 400,\n",
       "     'tag': 'original'},\n",
       "    {'url': 'https://s.yimg.com/uu/api/res/1.2/Gk7OODhY8En89dAW_9ax3g--~B/Zmk9ZmlsbDtoPTE0MDtweW9mZj0wO3c9MTQwO2FwcGlkPXl0YWNoeW9u/https://media.zenfs.com/en/us.finance.gurufocus/d20a3b67b283824e6c758361da423604',\n",
       "     'width': 140,\n",
       "     'height': 140,\n",
       "     'tag': '140x140'}]},\n",
       "  'relatedTickers': ['AAPL']},\n",
       " {'uuid': '66374841-5dce-330b-a95c-390815a47369',\n",
       "  'title': 'UBS Maintains ‘Neutral’ Rating on Apple Inc. (AAPL), Cites Soft iPhone Demand and Muted AI Interest',\n",
       "  'publisher': 'Insider Monkey',\n",
       "  'link': 'https://finance.yahoo.com/news/ubs-maintains-neutral-rating-apple-152156789.html',\n",
       "  'providerPublishTime': 1733412116,\n",
       "  'type': 'STORY',\n",
       "  'thumbnail': {'resolutions': [{'url': 'https://s.yimg.com/uu/api/res/1.2/fTPNobtT0bdcSxj2xXAamw--~B/aD04MTY7dz0xNDU2O2FwcGlkPXl0YWNoeW9u/https://media.zenfs.com/en/insidermonkey.com/bd47dc2e86b4a3086f845d200d9daf1f',\n",
       "     'width': 1456,\n",
       "     'height': 816,\n",
       "     'tag': 'original'},\n",
       "    {'url': 'https://s.yimg.com/uu/api/res/1.2/nIyTyNRglKMNfFFMGli.7A--~B/Zmk9ZmlsbDtoPTE0MDtweW9mZj0wO3c9MTQwO2FwcGlkPXl0YWNoeW9u/https://media.zenfs.com/en/insidermonkey.com/bd47dc2e86b4a3086f845d200d9daf1f',\n",
       "     'width': 140,\n",
       "     'height': 140,\n",
       "     'tag': '140x140'}]},\n",
       "  'relatedTickers': ['AAPL']},\n",
       " {'uuid': '706058f4-4fc2-4fd6-b549-11507d62b552',\n",
       "  'title': \"Trump just gave a new signal he isn't going to let up on Big Tech\",\n",
       "  'publisher': 'Yahoo Finance',\n",
       "  'link': 'https://finance.yahoo.com/news/trump-just-gave-a-new-signal-he-isnt-going-to-let-up-on-big-tech-152023282.html',\n",
       "  'providerPublishTime': 1733412023,\n",
       "  'type': 'STORY',\n",
       "  'thumbnail': {'resolutions': [{'url': 'https://s.yimg.com/uu/api/res/1.2/PpNGtwpAWqF9dkjOPu_BaA--~B/aD01NTA0O3c9ODI1NjthcHBpZD15dGFjaHlvbg--/https://s.yimg.com/os/creatr-uploaded-images/2024-12/d8eb7e60-b204-11ef-9fdb-891111262966',\n",
       "     'width': 8256,\n",
       "     'height': 5504,\n",
       "     'tag': 'original'},\n",
       "    {'url': 'https://s.yimg.com/uu/api/res/1.2/qQ4gwdI6nulBjyIlBOeHtQ--~B/Zmk9ZmlsbDtoPTE0MDtweW9mZj0wO3c9MTQwO2FwcGlkPXl0YWNoeW9u/https://s.yimg.com/os/creatr-uploaded-images/2024-12/d8eb7e60-b204-11ef-9fdb-891111262966',\n",
       "     'width': 140,\n",
       "     'height': 140,\n",
       "     'tag': '140x140'}]},\n",
       "  'relatedTickers': ['Z',\n",
       "   'ZG',\n",
       "   'UBER',\n",
       "   'ABNB',\n",
       "   'MSFT',\n",
       "   'AMZN',\n",
       "   'EBAY',\n",
       "   'GOOG',\n",
       "   'SPOT',\n",
       "   'AAPL',\n",
       "   'META']},\n",
       " {'uuid': 'bc960890-e6e1-32ce-b237-22de9d750279',\n",
       "  'title': \"Foxconn's Sales Surge Amid Apple Product Demand and AI Growth\",\n",
       "  'publisher': 'GuruFocus.com',\n",
       "  'link': 'https://finance.yahoo.com/news/foxconns-sales-surge-amid-apple-132546883.html',\n",
       "  'providerPublishTime': 1733405146,\n",
       "  'type': 'STORY',\n",
       "  'thumbnail': {'resolutions': [{'url': 'https://s.yimg.com/uu/api/res/1.2/R5O2WdZW4S6TRZdE63223g--~B/aD00NzU7dz01NTA7YXBwaWQ9eXRhY2h5b24-/https://media.zenfs.com/en/us.finance.gurufocus/f6d5f9d51b104961cf24aa8d5b100889',\n",
       "     'width': 550,\n",
       "     'height': 475,\n",
       "     'tag': 'original'},\n",
       "    {'url': 'https://s.yimg.com/uu/api/res/1.2/1i3.VXANWL2fAJafBwFivA--~B/Zmk9ZmlsbDtoPTE0MDtweW9mZj0wO3c9MTQwO2FwcGlkPXl0YWNoeW9u/https://media.zenfs.com/en/us.finance.gurufocus/f6d5f9d51b104961cf24aa8d5b100889',\n",
       "     'width': 140,\n",
       "     'height': 140,\n",
       "     'tag': '140x140'}]},\n",
       "  'relatedTickers': ['AAPL', '2317.TW']},\n",
       " {'uuid': 'd573777c-189d-373e-a29f-c07faed857ac',\n",
       "  'title': \"Here's Why Warren Buffett and Berkshire Hathaway May Change Their Investing Strategy With Donald Trump as President\",\n",
       "  'publisher': 'Motley Fool',\n",
       "  'link': 'https://finance.yahoo.com/m/d573777c-189d-373e-a29f-c07faed857ac/here%27s-why-warren-buffett-and.html',\n",
       "  'providerPublishTime': 1733401800,\n",
       "  'type': 'STORY',\n",
       "  'thumbnail': {'resolutions': [{'url': 'https://s.yimg.com/uu/api/res/1.2/iG01yNzw_18qISZGm_45gw--~B/aD00NDE7dz03MjA7YXBwaWQ9eXRhY2h5b24-/https://media.zenfs.com/en/motleyfool.com/d9887c566642928781b7f34a6e55f942',\n",
       "     'width': 720,\n",
       "     'height': 441,\n",
       "     'tag': 'original'},\n",
       "    {'url': 'https://s.yimg.com/uu/api/res/1.2/ewriqrpfOOKSyLJASMDJrQ--~B/Zmk9ZmlsbDtoPTE0MDtweW9mZj0wO3c9MTQwO2FwcGlkPXl0YWNoeW9u/https://media.zenfs.com/en/motleyfool.com/d9887c566642928781b7f34a6e55f942',\n",
       "     'width': 140,\n",
       "     'height': 140,\n",
       "     'tag': '140x140'}]},\n",
       "  'relatedTickers': ['AAPL', 'BRK-B']},\n",
       " {'uuid': 'b9408372-6231-3edc-9735-4f024efb0c14',\n",
       "  'title': 'Market Chatter: Apple Explores Manufacturing Investment in Indonesia',\n",
       "  'publisher': 'MT Newswires',\n",
       "  'link': 'https://finance.yahoo.com/news/market-chatter-apple-explores-manufacturing-120417399.html',\n",
       "  'providerPublishTime': 1733400257,\n",
       "  'type': 'STORY',\n",
       "  'relatedTickers': ['AAPL']},\n",
       " {'uuid': 'c5ecb51b-9d3c-385f-bf52-370204d37e59',\n",
       "  'title': 'Apple unveils AI decision that is a major blow to Nvidia',\n",
       "  'publisher': 'TheStreet',\n",
       "  'link': 'https://finance.yahoo.com/m/c5ecb51b-9d3c-385f-bf52-370204d37e59/apple-unveils-ai-decision.html',\n",
       "  'providerPublishTime': 1733400180,\n",
       "  'type': 'STORY',\n",
       "  'thumbnail': {'resolutions': [{'url': 'https://s.yimg.com/uu/api/res/1.2/iZxPJi9aXICzByeozOLVPw--~B/aD02NzU7dz0xMjAwO2FwcGlkPXl0YWNoeW9u/https://media.zenfs.com/en/thestreet_881/abfaa49806683a7b6ed1a6c476d4fca7',\n",
       "     'width': 1200,\n",
       "     'height': 675,\n",
       "     'tag': 'original'},\n",
       "    {'url': 'https://s.yimg.com/uu/api/res/1.2/ZfQYbIzDP.qgWXLpPtc4sw--~B/Zmk9ZmlsbDtoPTE0MDtweW9mZj0wO3c9MTQwO2FwcGlkPXl0YWNoeW9u/https://media.zenfs.com/en/thestreet_881/abfaa49806683a7b6ed1a6c476d4fca7',\n",
       "     'width': 140,\n",
       "     'height': 140,\n",
       "     'tag': '140x140'}]},\n",
       "  'relatedTickers': ['AAPL', 'NVDA', 'AMZN']}]"
      ]
     },
     "execution_count": 141,
     "metadata": {},
     "output_type": "execute_result"
    }
   ],
   "source": [
    "ticker = yf.Ticker(\"AAPL\")\n",
    "\n",
    "news = ticker.get_news()\n",
    "news"
   ]
  },
  {
   "cell_type": "code",
   "execution_count": null,
   "metadata": {},
   "outputs": [
    {
     "data": {
      "text/plain": [
       "['__class__',\n",
       " '__delattr__',\n",
       " '__dict__',\n",
       " '__dir__',\n",
       " '__doc__',\n",
       " '__eq__',\n",
       " '__format__',\n",
       " '__ge__',\n",
       " '__getattribute__',\n",
       " '__getstate__',\n",
       " '__gt__',\n",
       " '__hash__',\n",
       " '__init__',\n",
       " '__init_subclass__',\n",
       " '__le__',\n",
       " '__lt__',\n",
       " '__module__',\n",
       " '__ne__',\n",
       " '__new__',\n",
       " '__reduce__',\n",
       " '__reduce_ex__',\n",
       " '__repr__',\n",
       " '__setattr__',\n",
       " '__sizeof__',\n",
       " '__str__',\n",
       " '__subclasshook__',\n",
       " '__weakref__',\n",
       " '_analysis',\n",
       " '_data',\n",
       " '_download_options',\n",
       " '_earnings',\n",
       " '_earnings_dates',\n",
       " '_expirations',\n",
       " '_fast_info',\n",
       " '_fetch_ticker_tz',\n",
       " '_financials',\n",
       " '_fundamentals',\n",
       " '_funds_data',\n",
       " '_get_ticker_tz',\n",
       " '_holders',\n",
       " '_isin',\n",
       " '_lazy_load_price_history',\n",
       " '_news',\n",
       " '_options2df',\n",
       " '_price_history',\n",
       " '_quote',\n",
       " '_shares',\n",
       " '_tz',\n",
       " '_underlying',\n",
       " 'actions',\n",
       " 'analyst_price_targets',\n",
       " 'balance_sheet',\n",
       " 'balancesheet',\n",
       " 'basic_info',\n",
       " 'calendar',\n",
       " 'capital_gains',\n",
       " 'cash_flow',\n",
       " 'cashflow',\n",
       " 'dividends',\n",
       " 'earnings',\n",
       " 'earnings_dates',\n",
       " 'earnings_estimate',\n",
       " 'earnings_history',\n",
       " 'eps_revisions',\n",
       " 'eps_trend',\n",
       " 'fast_info',\n",
       " 'financials',\n",
       " 'funds_data',\n",
       " 'get_actions',\n",
       " 'get_analyst_price_targets',\n",
       " 'get_balance_sheet',\n",
       " 'get_balancesheet',\n",
       " 'get_calendar',\n",
       " 'get_capital_gains',\n",
       " 'get_cash_flow',\n",
       " 'get_cashflow',\n",
       " 'get_dividends',\n",
       " 'get_earnings',\n",
       " 'get_earnings_dates',\n",
       " 'get_earnings_estimate',\n",
       " 'get_earnings_history',\n",
       " 'get_eps_revisions',\n",
       " 'get_eps_trend',\n",
       " 'get_fast_info',\n",
       " 'get_financials',\n",
       " 'get_funds_data',\n",
       " 'get_growth_estimates',\n",
       " 'get_history_metadata',\n",
       " 'get_income_stmt',\n",
       " 'get_incomestmt',\n",
       " 'get_info',\n",
       " 'get_insider_purchases',\n",
       " 'get_insider_roster_holders',\n",
       " 'get_insider_transactions',\n",
       " 'get_institutional_holders',\n",
       " 'get_isin',\n",
       " 'get_major_holders',\n",
       " 'get_mutualfund_holders',\n",
       " 'get_news',\n",
       " 'get_recommendations',\n",
       " 'get_recommendations_summary',\n",
       " 'get_revenue_estimate',\n",
       " 'get_sec_filings',\n",
       " 'get_shares',\n",
       " 'get_shares_full',\n",
       " 'get_splits',\n",
       " 'get_sustainability',\n",
       " 'get_upgrades_downgrades',\n",
       " 'growth_estimates',\n",
       " 'history',\n",
       " 'history_metadata',\n",
       " 'income_stmt',\n",
       " 'incomestmt',\n",
       " 'info',\n",
       " 'insider_purchases',\n",
       " 'insider_roster_holders',\n",
       " 'insider_transactions',\n",
       " 'institutional_holders',\n",
       " 'isin',\n",
       " 'major_holders',\n",
       " 'mutualfund_holders',\n",
       " 'news',\n",
       " 'option_chain',\n",
       " 'options',\n",
       " 'proxy',\n",
       " 'quarterly_balance_sheet',\n",
       " 'quarterly_balancesheet',\n",
       " 'quarterly_cash_flow',\n",
       " 'quarterly_cashflow',\n",
       " 'quarterly_earnings',\n",
       " 'quarterly_financials',\n",
       " 'quarterly_income_stmt',\n",
       " 'quarterly_incomestmt',\n",
       " 'recommendations',\n",
       " 'recommendations_summary',\n",
       " 'revenue_estimate',\n",
       " 'sec_filings',\n",
       " 'session',\n",
       " 'shares',\n",
       " 'splits',\n",
       " 'sustainability',\n",
       " 'ticker',\n",
       " 'upgrades_downgrades']"
      ]
     },
     "execution_count": 188,
     "metadata": {},
     "output_type": "execute_result"
    }
   ],
   "source": [
    "dir(ticker)"
   ]
  },
  {
   "cell_type": "code",
   "execution_count": 142,
   "metadata": {},
   "outputs": [
    {
     "name": "stdout",
     "output_type": "stream",
     "text": [
      "address1: One Apple Park Way\n",
      "city: Cupertino\n",
      "state: CA\n",
      "zip: 95014\n",
      "country: United States\n",
      "phone: (408) 996-1010\n",
      "website: https://www.apple.com\n",
      "industry: Consumer Electronics\n",
      "industryKey: consumer-electronics\n",
      "industryDisp: Consumer Electronics\n",
      "sector: Technology\n",
      "sectorKey: technology\n",
      "sectorDisp: Technology\n",
      "longBusinessSummary: Apple Inc. designs, manufactures, and markets smartphones, personal computers, tablets, wearables, and accessories worldwide. The company offers iPhone, a line of smartphones; Mac, a line of personal computers; iPad, a line of multi-purpose tablets; and wearables, home, and accessories comprising AirPods, Apple TV, Apple Watch, Beats products, and HomePod. It also provides AppleCare support and cloud services; and operates various platforms, including the App Store that allow customers to discover and download applications and digital content, such as books, music, video, games, and podcasts, as well as advertising services include third-party licensing arrangements and its own advertising platforms. In addition, the company offers various subscription-based services, such as Apple Arcade, a game subscription service; Apple Fitness+, a personalized fitness service; Apple Music, which offers users a curated listening experience with on-demand radio stations; Apple News+, a subscription news and magazine service; Apple TV+, which offers exclusive original content; Apple Card, a co-branded credit card; and Apple Pay, a cashless payment service, as well as licenses its intellectual property. The company serves consumers, and small and mid-sized businesses; and the education, enterprise, and government markets. It distributes third-party applications for its products through the App Store. The company also sells its products through its retail and online stores, and direct sales force; and third-party cellular network carriers, wholesalers, retailers, and resellers. Apple Inc. was founded in 1976 and is headquartered in Cupertino, California.\n",
      "fullTimeEmployees: 164000\n",
      "companyOfficers: [{'maxAge': 1, 'name': 'Mr. Timothy D. Cook', 'age': 62, 'title': 'CEO & Director', 'yearBorn': 1961, 'fiscalYear': 2023, 'totalPay': 16239562, 'exercisedValue': 0, 'unexercisedValue': 0}, {'maxAge': 1, 'name': 'Mr. Luca  Maestri', 'age': 60, 'title': 'CFO & Senior VP', 'yearBorn': 1963, 'fiscalYear': 2023, 'totalPay': 4612242, 'exercisedValue': 0, 'unexercisedValue': 0}, {'maxAge': 1, 'name': 'Mr. Jeffrey E. Williams', 'age': 59, 'title': 'Chief Operating Officer', 'yearBorn': 1964, 'fiscalYear': 2023, 'totalPay': 4637585, 'exercisedValue': 0, 'unexercisedValue': 0}, {'maxAge': 1, 'name': 'Ms. Katherine L. Adams', 'age': 59, 'title': 'Senior VP, General Counsel & Secretary', 'yearBorn': 1964, 'fiscalYear': 2023, 'totalPay': 4618064, 'exercisedValue': 0, 'unexercisedValue': 0}, {'maxAge': 1, 'name': \"Ms. Deirdre  O'Brien\", 'age': 56, 'title': 'Chief People Officer & Senior VP of Retail', 'yearBorn': 1967, 'fiscalYear': 2023, 'totalPay': 4613369, 'exercisedValue': 0, 'unexercisedValue': 0}, {'maxAge': 1, 'name': 'Mr. Chris  Kondo', 'title': 'Senior Director of Corporate Accounting', 'fiscalYear': 2023, 'exercisedValue': 0, 'unexercisedValue': 0}, {'maxAge': 1, 'name': 'Suhasini  Chandramouli', 'title': 'Director of Investor Relations', 'fiscalYear': 2023, 'exercisedValue': 0, 'unexercisedValue': 0}, {'maxAge': 1, 'name': 'Mr. Greg  Joswiak', 'title': 'Senior Vice President of Worldwide Marketing', 'fiscalYear': 2023, 'exercisedValue': 0, 'unexercisedValue': 0}, {'maxAge': 1, 'name': 'Mr. Adrian  Perica', 'age': 49, 'title': 'Head of Corporate Development', 'yearBorn': 1974, 'fiscalYear': 2023, 'exercisedValue': 0, 'unexercisedValue': 0}, {'maxAge': 1, 'name': 'Mr. Michael  Fenger', 'title': 'VP of Worldwide Sales', 'fiscalYear': 2023, 'exercisedValue': 0, 'unexercisedValue': 0}]\n",
      "auditRisk: 6\n",
      "boardRisk: 1\n",
      "compensationRisk: 2\n",
      "shareHolderRightsRisk: 1\n",
      "overallRisk: 1\n",
      "governanceEpochDate: 1733011200\n",
      "compensationAsOfEpochDate: 1703980800\n",
      "irWebsite: http://investor.apple.com/\n",
      "maxAge: 86400\n",
      "priceHint: 2\n",
      "previousClose: 243.04\n",
      "open: 242.87\n",
      "dayLow: 242.08\n",
      "dayHigh: 244.63\n",
      "regularMarketPreviousClose: 243.04\n",
      "regularMarketOpen: 242.87\n",
      "regularMarketDayLow: 242.08\n",
      "regularMarketDayHigh: 244.63\n",
      "dividendRate: 1.0\n",
      "dividendYield: 0.0041\n",
      "exDividendDate: 1731024000\n",
      "payoutRatio: 0.1612\n",
      "fiveYearAvgDividendYield: 0.62\n",
      "beta: 1.24\n",
      "trailingPE: 40.006588\n",
      "forwardPE: 29.23043\n",
      "volume: 35758824\n",
      "regularMarketVolume: 35758824\n",
      "averageVolume: 48183057\n",
      "averageVolume10days: 44455510\n",
      "averageDailyVolume10Day: 44455510\n",
      "bid: 230.68\n",
      "ask: 242.96\n",
      "bidSize: 100\n",
      "askSize: 400\n",
      "marketCap: 3670720643072\n",
      "fiftyTwoWeekLow: 164.08\n",
      "fiftyTwoWeekHigh: 244.63\n",
      "priceToSalesTrailing12Months: 9.387192\n",
      "fiftyDayAverage: 230.3884\n",
      "twoHundredDayAverage: 207.31\n",
      "trailingAnnualDividendRate: 0.98\n",
      "trailingAnnualDividendYield: 0.0040322584\n",
      "currency: USD\n",
      "enterpriseValue: 3724614565888\n",
      "profitMargins: 0.23971\n",
      "floatShares: 15091184209\n",
      "sharesOutstanding: 15115799552\n",
      "sharesShort: 141037864\n",
      "sharesShortPriorMonth: 140919653\n",
      "sharesShortPreviousMonthDate: 1728950400\n",
      "dateShortInterest: 1731628800\n",
      "sharesPercentSharesOut: 0.0093\n",
      "heldPercentInsiders: 0.02056\n",
      "heldPercentInstitutions: 0.61929\n",
      "shortRatio: 3.21\n",
      "shortPercentOfFloat: 0.0093\n",
      "impliedSharesOutstanding: 15332100096\n",
      "bookValue: 3.767\n",
      "priceToBook: 64.46509\n",
      "lastFiscalYearEnd: 1727481600\n",
      "nextFiscalYearEnd: 1759017600\n",
      "mostRecentQuarter: 1727481600\n",
      "earningsQuarterlyGrowth: -0.358\n",
      "netIncomeToCommon: 93736001536\n",
      "trailingEps: 6.07\n",
      "forwardEps: 8.31\n",
      "lastSplitFactor: 4:1\n",
      "lastSplitDate: 1598832000\n",
      "enterpriseToRevenue: 9.525\n",
      "enterpriseToEbitda: 27.659\n",
      "52WeekChange: 0.2570659\n",
      "SandP52WeekChange: 0.31754446\n",
      "lastDividendValue: 0.25\n",
      "lastDividendDate: 1731024000\n",
      "exchange: NMS\n",
      "quoteType: EQUITY\n",
      "symbol: AAPL\n",
      "underlyingSymbol: AAPL\n",
      "shortName: Apple Inc.\n",
      "longName: Apple Inc.\n",
      "firstTradeDateEpochUtc: 345479400\n",
      "timeZoneFullName: America/New_York\n",
      "timeZoneShortName: EST\n",
      "uuid: 8b10e4ae-9eeb-3684-921a-9ab27e4d87aa\n",
      "messageBoardId: finmb_24937\n",
      "gmtOffSetMilliseconds: -18000000\n",
      "currentPrice: 242.84\n",
      "targetHighPrice: 300.0\n",
      "targetLowPrice: 184.0\n",
      "targetMeanPrice: 244.47739\n",
      "targetMedianPrice: 250.0\n",
      "recommendationMean: 1.89362\n",
      "recommendationKey: buy\n",
      "numberOfAnalystOpinions: 42\n",
      "totalCash: 65171001344\n",
      "totalCashPerShare: 4.311\n",
      "ebitda: 134660997120\n",
      "totalDebt: 119058997248\n",
      "quickRatio: 0.745\n",
      "currentRatio: 0.867\n",
      "totalRevenue: 391034994688\n",
      "debtToEquity: 209.059\n",
      "revenuePerShare: 25.485\n",
      "returnOnAssets: 0.21464\n",
      "returnOnEquity: 1.5741299\n",
      "freeCashflow: 110846001152\n",
      "operatingCashflow: 118254002176\n",
      "earningsGrowth: -0.341\n",
      "revenueGrowth: 0.061\n",
      "grossMargins: 0.46206\n",
      "ebitdaMargins: 0.34437\n",
      "operatingMargins: 0.31171\n",
      "financialCurrency: USD\n",
      "trailingPegRatio: 2.5091\n"
     ]
    }
   ],
   "source": [
    "for key, value in ticker.info.items():\n",
    "    print(f\"{key}: {value}\")"
   ]
  },
  {
   "cell_type": "code",
   "execution_count": null,
   "metadata": {},
   "outputs": [
    {
     "data": {
      "text/plain": [
       "39.12956282740667"
      ]
     },
     "execution_count": 190,
     "metadata": {},
     "output_type": "execute_result"
    }
   ],
   "source": [
    "# PE ratio will look something like this\n",
    "ticker.info[\"previousClose\"] / (ticker.info[\"netIncomeToCommon\"] / ticker.info[\"sharesOutstanding\"])"
   ]
  },
  {
   "cell_type": "code",
   "execution_count": null,
   "metadata": {},
   "outputs": [
    {
     "data": {
      "text/plain": [
       "0.0041"
      ]
     },
     "execution_count": 191,
     "metadata": {},
     "output_type": "execute_result"
    }
   ],
   "source": [
    "ticker.info[\"dividendYield\"]"
   ]
  },
  {
   "cell_type": "code",
   "execution_count": null,
   "metadata": {},
   "outputs": [
    {
     "data": {
      "text/plain": [
       "1.24"
      ]
     },
     "execution_count": 192,
     "metadata": {},
     "output_type": "execute_result"
    }
   ],
   "source": [
    "ticker.info[\"beta\"]"
   ]
  },
  {
   "cell_type": "code",
   "execution_count": null,
   "metadata": {},
   "outputs": [
    {
     "data": {
      "text/html": [
       "<div>\n",
       "<style scoped>\n",
       "    .dataframe tbody tr th:only-of-type {\n",
       "        vertical-align: middle;\n",
       "    }\n",
       "\n",
       "    .dataframe tbody tr th {\n",
       "        vertical-align: top;\n",
       "    }\n",
       "\n",
       "    .dataframe thead th {\n",
       "        text-align: right;\n",
       "    }\n",
       "</style>\n",
       "<table border=\"1\" class=\"dataframe\">\n",
       "  <thead>\n",
       "    <tr style=\"text-align: right;\">\n",
       "      <th></th>\n",
       "      <th>Open</th>\n",
       "      <th>High</th>\n",
       "      <th>Low</th>\n",
       "      <th>Close</th>\n",
       "      <th>Volume</th>\n",
       "      <th>Dividends</th>\n",
       "      <th>Stock Splits</th>\n",
       "    </tr>\n",
       "    <tr>\n",
       "      <th>Date</th>\n",
       "      <th></th>\n",
       "      <th></th>\n",
       "      <th></th>\n",
       "      <th></th>\n",
       "      <th></th>\n",
       "      <th></th>\n",
       "      <th></th>\n",
       "    </tr>\n",
       "  </thead>\n",
       "  <tbody>\n",
       "    <tr>\n",
       "      <th>2019-12-05 00:00:00-05:00</th>\n",
       "      <td>63.934952</td>\n",
       "      <td>64.443931</td>\n",
       "      <td>63.678039</td>\n",
       "      <td>64.368790</td>\n",
       "      <td>74424400</td>\n",
       "      <td>0.0</td>\n",
       "      <td>0.0</td>\n",
       "    </tr>\n",
       "    <tr>\n",
       "      <th>2019-12-06 00:00:00-05:00</th>\n",
       "      <td>64.829292</td>\n",
       "      <td>65.682434</td>\n",
       "      <td>64.785660</td>\n",
       "      <td>65.612144</td>\n",
       "      <td>106075600</td>\n",
       "      <td>0.0</td>\n",
       "      <td>0.0</td>\n",
       "    </tr>\n",
       "    <tr>\n",
       "      <th>2019-12-09 00:00:00-05:00</th>\n",
       "      <td>65.440071</td>\n",
       "      <td>65.633965</td>\n",
       "      <td>64.206406</td>\n",
       "      <td>64.693573</td>\n",
       "      <td>128042400</td>\n",
       "      <td>0.0</td>\n",
       "      <td>0.0</td>\n",
       "    </tr>\n",
       "    <tr>\n",
       "      <th>2019-12-10 00:00:00-05:00</th>\n",
       "      <td>65.100761</td>\n",
       "      <td>65.457047</td>\n",
       "      <td>64.436661</td>\n",
       "      <td>65.071678</td>\n",
       "      <td>90420400</td>\n",
       "      <td>0.0</td>\n",
       "      <td>0.0</td>\n",
       "    </tr>\n",
       "    <tr>\n",
       "      <th>2019-12-11 00:00:00-05:00</th>\n",
       "      <td>65.151634</td>\n",
       "      <td>65.706665</td>\n",
       "      <td>65.076500</td>\n",
       "      <td>65.626678</td>\n",
       "      <td>78756800</td>\n",
       "      <td>0.0</td>\n",
       "      <td>0.0</td>\n",
       "    </tr>\n",
       "    <tr>\n",
       "      <th>...</th>\n",
       "      <td>...</td>\n",
       "      <td>...</td>\n",
       "      <td>...</td>\n",
       "      <td>...</td>\n",
       "      <td>...</td>\n",
       "      <td>...</td>\n",
       "      <td>...</td>\n",
       "    </tr>\n",
       "    <tr>\n",
       "      <th>2024-11-27 00:00:00-05:00</th>\n",
       "      <td>234.470001</td>\n",
       "      <td>235.690002</td>\n",
       "      <td>233.809998</td>\n",
       "      <td>234.929993</td>\n",
       "      <td>33498400</td>\n",
       "      <td>0.0</td>\n",
       "      <td>0.0</td>\n",
       "    </tr>\n",
       "    <tr>\n",
       "      <th>2024-11-29 00:00:00-05:00</th>\n",
       "      <td>234.809998</td>\n",
       "      <td>237.809998</td>\n",
       "      <td>233.970001</td>\n",
       "      <td>237.330002</td>\n",
       "      <td>28481400</td>\n",
       "      <td>0.0</td>\n",
       "      <td>0.0</td>\n",
       "    </tr>\n",
       "    <tr>\n",
       "      <th>2024-12-02 00:00:00-05:00</th>\n",
       "      <td>237.270004</td>\n",
       "      <td>240.789993</td>\n",
       "      <td>237.160004</td>\n",
       "      <td>239.589996</td>\n",
       "      <td>48137100</td>\n",
       "      <td>0.0</td>\n",
       "      <td>0.0</td>\n",
       "    </tr>\n",
       "    <tr>\n",
       "      <th>2024-12-03 00:00:00-05:00</th>\n",
       "      <td>239.809998</td>\n",
       "      <td>242.759995</td>\n",
       "      <td>238.899994</td>\n",
       "      <td>242.649994</td>\n",
       "      <td>38861000</td>\n",
       "      <td>0.0</td>\n",
       "      <td>0.0</td>\n",
       "    </tr>\n",
       "    <tr>\n",
       "      <th>2024-12-04 00:00:00-05:00</th>\n",
       "      <td>242.880005</td>\n",
       "      <td>244.104996</td>\n",
       "      <td>241.250000</td>\n",
       "      <td>243.009995</td>\n",
       "      <td>41848779</td>\n",
       "      <td>0.0</td>\n",
       "      <td>0.0</td>\n",
       "    </tr>\n",
       "  </tbody>\n",
       "</table>\n",
       "<p>1258 rows × 7 columns</p>\n",
       "</div>"
      ],
      "text/plain": [
       "                                 Open        High         Low       Close  \\\n",
       "Date                                                                        \n",
       "2019-12-05 00:00:00-05:00   63.934952   64.443931   63.678039   64.368790   \n",
       "2019-12-06 00:00:00-05:00   64.829292   65.682434   64.785660   65.612144   \n",
       "2019-12-09 00:00:00-05:00   65.440071   65.633965   64.206406   64.693573   \n",
       "2019-12-10 00:00:00-05:00   65.100761   65.457047   64.436661   65.071678   \n",
       "2019-12-11 00:00:00-05:00   65.151634   65.706665   65.076500   65.626678   \n",
       "...                               ...         ...         ...         ...   \n",
       "2024-11-27 00:00:00-05:00  234.470001  235.690002  233.809998  234.929993   \n",
       "2024-11-29 00:00:00-05:00  234.809998  237.809998  233.970001  237.330002   \n",
       "2024-12-02 00:00:00-05:00  237.270004  240.789993  237.160004  239.589996   \n",
       "2024-12-03 00:00:00-05:00  239.809998  242.759995  238.899994  242.649994   \n",
       "2024-12-04 00:00:00-05:00  242.880005  244.104996  241.250000  243.009995   \n",
       "\n",
       "                              Volume  Dividends  Stock Splits  \n",
       "Date                                                           \n",
       "2019-12-05 00:00:00-05:00   74424400        0.0           0.0  \n",
       "2019-12-06 00:00:00-05:00  106075600        0.0           0.0  \n",
       "2019-12-09 00:00:00-05:00  128042400        0.0           0.0  \n",
       "2019-12-10 00:00:00-05:00   90420400        0.0           0.0  \n",
       "2019-12-11 00:00:00-05:00   78756800        0.0           0.0  \n",
       "...                              ...        ...           ...  \n",
       "2024-11-27 00:00:00-05:00   33498400        0.0           0.0  \n",
       "2024-11-29 00:00:00-05:00   28481400        0.0           0.0  \n",
       "2024-12-02 00:00:00-05:00   48137100        0.0           0.0  \n",
       "2024-12-03 00:00:00-05:00   38861000        0.0           0.0  \n",
       "2024-12-04 00:00:00-05:00   41848779        0.0           0.0  \n",
       "\n",
       "[1258 rows x 7 columns]"
      ]
     },
     "execution_count": 193,
     "metadata": {},
     "output_type": "execute_result"
    }
   ],
   "source": [
    "ticker = yf.Ticker(\"AAPL\")\n",
    "history = ticker.history(period=\"5y\")\n",
    "history"
   ]
  },
  {
   "cell_type": "code",
   "execution_count": null,
   "metadata": {},
   "outputs": [
    {
     "data": {
      "text/html": [
       "<div>\n",
       "<style scoped>\n",
       "    .dataframe tbody tr th:only-of-type {\n",
       "        vertical-align: middle;\n",
       "    }\n",
       "\n",
       "    .dataframe tbody tr th {\n",
       "        vertical-align: top;\n",
       "    }\n",
       "\n",
       "    .dataframe thead th {\n",
       "        text-align: right;\n",
       "    }\n",
       "</style>\n",
       "<table border=\"1\" class=\"dataframe\">\n",
       "  <thead>\n",
       "    <tr style=\"text-align: right;\">\n",
       "      <th>Breakdown</th>\n",
       "      <th>Value</th>\n",
       "    </tr>\n",
       "  </thead>\n",
       "  <tbody>\n",
       "    <tr>\n",
       "      <th>insidersPercentHeld</th>\n",
       "      <td>0.02056</td>\n",
       "    </tr>\n",
       "    <tr>\n",
       "      <th>institutionsPercentHeld</th>\n",
       "      <td>0.61903</td>\n",
       "    </tr>\n",
       "    <tr>\n",
       "      <th>institutionsFloatPercentHeld</th>\n",
       "      <td>0.63203</td>\n",
       "    </tr>\n",
       "    <tr>\n",
       "      <th>institutionsCount</th>\n",
       "      <td>6485.00000</td>\n",
       "    </tr>\n",
       "  </tbody>\n",
       "</table>\n",
       "</div>"
      ],
      "text/plain": [
       "Breakdown                          Value\n",
       "insidersPercentHeld              0.02056\n",
       "institutionsPercentHeld          0.61903\n",
       "institutionsFloatPercentHeld     0.63203\n",
       "institutionsCount             6485.00000"
      ]
     },
     "execution_count": 194,
     "metadata": {},
     "output_type": "execute_result"
    }
   ],
   "source": [
    "ticker.major_holders"
   ]
  },
  {
   "cell_type": "code",
   "execution_count": null,
   "metadata": {},
   "outputs": [
    {
     "data": {
      "text/html": [
       "<div>\n",
       "<style scoped>\n",
       "    .dataframe tbody tr th:only-of-type {\n",
       "        vertical-align: middle;\n",
       "    }\n",
       "\n",
       "    .dataframe tbody tr th {\n",
       "        vertical-align: top;\n",
       "    }\n",
       "\n",
       "    .dataframe thead th {\n",
       "        text-align: right;\n",
       "    }\n",
       "</style>\n",
       "<table border=\"1\" class=\"dataframe\">\n",
       "  <thead>\n",
       "    <tr style=\"text-align: right;\">\n",
       "      <th></th>\n",
       "      <th>Date Reported</th>\n",
       "      <th>Holder</th>\n",
       "      <th>pctHeld</th>\n",
       "      <th>Shares</th>\n",
       "      <th>Value</th>\n",
       "    </tr>\n",
       "  </thead>\n",
       "  <tbody>\n",
       "    <tr>\n",
       "      <th>0</th>\n",
       "      <td>2023-06-30</td>\n",
       "      <td>Vanguard Group Inc</td>\n",
       "      <td>0.0834</td>\n",
       "      <td>1303688506</td>\n",
       "      <td>252876459508</td>\n",
       "    </tr>\n",
       "    <tr>\n",
       "      <th>1</th>\n",
       "      <td>2023-06-30</td>\n",
       "      <td>Blackrock Inc.</td>\n",
       "      <td>0.0665</td>\n",
       "      <td>1039640859</td>\n",
       "      <td>201659137420</td>\n",
       "    </tr>\n",
       "    <tr>\n",
       "      <th>2</th>\n",
       "      <td>2023-06-30</td>\n",
       "      <td>Berkshire Hathaway, Inc</td>\n",
       "      <td>0.0586</td>\n",
       "      <td>915560382</td>\n",
       "      <td>177591247296</td>\n",
       "    </tr>\n",
       "    <tr>\n",
       "      <th>3</th>\n",
       "      <td>2023-06-30</td>\n",
       "      <td>State Street Corporation</td>\n",
       "      <td>0.0370</td>\n",
       "      <td>578897858</td>\n",
       "      <td>112288817516</td>\n",
       "    </tr>\n",
       "    <tr>\n",
       "      <th>4</th>\n",
       "      <td>2023-06-30</td>\n",
       "      <td>FMR, LLC</td>\n",
       "      <td>0.0196</td>\n",
       "      <td>307066638</td>\n",
       "      <td>59561715772</td>\n",
       "    </tr>\n",
       "    <tr>\n",
       "      <th>5</th>\n",
       "      <td>2023-06-30</td>\n",
       "      <td>Geode Capital Management, LLC</td>\n",
       "      <td>0.0186</td>\n",
       "      <td>291538165</td>\n",
       "      <td>56549657865</td>\n",
       "    </tr>\n",
       "    <tr>\n",
       "      <th>6</th>\n",
       "      <td>2023-06-30</td>\n",
       "      <td>Price (T.Rowe) Associates Inc</td>\n",
       "      <td>0.0145</td>\n",
       "      <td>226650943</td>\n",
       "      <td>43963483413</td>\n",
       "    </tr>\n",
       "    <tr>\n",
       "      <th>7</th>\n",
       "      <td>2023-06-30</td>\n",
       "      <td>Morgan Stanley</td>\n",
       "      <td>0.0131</td>\n",
       "      <td>204714950</td>\n",
       "      <td>39708558851</td>\n",
       "    </tr>\n",
       "    <tr>\n",
       "      <th>8</th>\n",
       "      <td>2022-12-31</td>\n",
       "      <td>Norges Bank Investment Management</td>\n",
       "      <td>0.0107</td>\n",
       "      <td>167374278</td>\n",
       "      <td>21746939940</td>\n",
       "    </tr>\n",
       "    <tr>\n",
       "      <th>9</th>\n",
       "      <td>2023-06-30</td>\n",
       "      <td>Northern Trust Corporation</td>\n",
       "      <td>0.0105</td>\n",
       "      <td>164536073</td>\n",
       "      <td>31915062079</td>\n",
       "    </tr>\n",
       "  </tbody>\n",
       "</table>\n",
       "</div>"
      ],
      "text/plain": [
       "  Date Reported                             Holder  pctHeld      Shares  \\\n",
       "0    2023-06-30                 Vanguard Group Inc   0.0834  1303688506   \n",
       "1    2023-06-30                     Blackrock Inc.   0.0665  1039640859   \n",
       "2    2023-06-30            Berkshire Hathaway, Inc   0.0586   915560382   \n",
       "3    2023-06-30           State Street Corporation   0.0370   578897858   \n",
       "4    2023-06-30                           FMR, LLC   0.0196   307066638   \n",
       "5    2023-06-30      Geode Capital Management, LLC   0.0186   291538165   \n",
       "6    2023-06-30      Price (T.Rowe) Associates Inc   0.0145   226650943   \n",
       "7    2023-06-30                     Morgan Stanley   0.0131   204714950   \n",
       "8    2022-12-31  Norges Bank Investment Management   0.0107   167374278   \n",
       "9    2023-06-30         Northern Trust Corporation   0.0105   164536073   \n",
       "\n",
       "          Value  \n",
       "0  252876459508  \n",
       "1  201659137420  \n",
       "2  177591247296  \n",
       "3  112288817516  \n",
       "4   59561715772  \n",
       "5   56549657865  \n",
       "6   43963483413  \n",
       "7   39708558851  \n",
       "8   21746939940  \n",
       "9   31915062079  "
      ]
     },
     "execution_count": 195,
     "metadata": {},
     "output_type": "execute_result"
    }
   ],
   "source": [
    "ticker.institutional_holders"
   ]
  },
  {
   "cell_type": "code",
   "execution_count": null,
   "metadata": {},
   "outputs": [
    {
     "data": {
      "text/plain": [
       "{'Dividend Date': datetime.date(2024, 11, 13),\n",
       " 'Ex-Dividend Date': datetime.date(2024, 11, 7),\n",
       " 'Earnings Date': [datetime.date(2025, 1, 30), datetime.date(2025, 2, 3)],\n",
       " 'Earnings High': 2.5,\n",
       " 'Earnings Low': 2.19,\n",
       " 'Earnings Average': 2.35487,\n",
       " 'Revenue High': 129887000000,\n",
       " 'Revenue Low': 119563000000,\n",
       " 'Revenue Average': 124365081850}"
      ]
     },
     "execution_count": 196,
     "metadata": {},
     "output_type": "execute_result"
    }
   ],
   "source": [
    "ticker.calendar"
   ]
  },
  {
   "cell_type": "code",
   "execution_count": null,
   "metadata": {},
   "outputs": [
    {
     "data": {
      "text/html": [
       "<div>\n",
       "<style scoped>\n",
       "    .dataframe tbody tr th:only-of-type {\n",
       "        vertical-align: middle;\n",
       "    }\n",
       "\n",
       "    .dataframe tbody tr th {\n",
       "        vertical-align: top;\n",
       "    }\n",
       "\n",
       "    .dataframe thead th {\n",
       "        text-align: right;\n",
       "    }\n",
       "</style>\n",
       "<table border=\"1\" class=\"dataframe\">\n",
       "  <thead>\n",
       "    <tr style=\"text-align: right;\">\n",
       "      <th></th>\n",
       "      <th>period</th>\n",
       "      <th>strongBuy</th>\n",
       "      <th>buy</th>\n",
       "      <th>hold</th>\n",
       "      <th>sell</th>\n",
       "      <th>strongSell</th>\n",
       "    </tr>\n",
       "  </thead>\n",
       "  <tbody>\n",
       "    <tr>\n",
       "      <th>0</th>\n",
       "      <td>0m</td>\n",
       "      <td>8</td>\n",
       "      <td>24</td>\n",
       "      <td>12</td>\n",
       "      <td>1</td>\n",
       "      <td>2</td>\n",
       "    </tr>\n",
       "    <tr>\n",
       "      <th>1</th>\n",
       "      <td>-1m</td>\n",
       "      <td>8</td>\n",
       "      <td>24</td>\n",
       "      <td>12</td>\n",
       "      <td>1</td>\n",
       "      <td>2</td>\n",
       "    </tr>\n",
       "    <tr>\n",
       "      <th>2</th>\n",
       "      <td>-2m</td>\n",
       "      <td>8</td>\n",
       "      <td>23</td>\n",
       "      <td>12</td>\n",
       "      <td>1</td>\n",
       "      <td>2</td>\n",
       "    </tr>\n",
       "    <tr>\n",
       "      <th>3</th>\n",
       "      <td>-3m</td>\n",
       "      <td>8</td>\n",
       "      <td>24</td>\n",
       "      <td>12</td>\n",
       "      <td>0</td>\n",
       "      <td>2</td>\n",
       "    </tr>\n",
       "  </tbody>\n",
       "</table>\n",
       "</div>"
      ],
      "text/plain": [
       "  period  strongBuy  buy  hold  sell  strongSell\n",
       "0     0m          8   24    12     1           2\n",
       "1    -1m          8   24    12     1           2\n",
       "2    -2m          8   23    12     1           2\n",
       "3    -3m          8   24    12     0           2"
      ]
     },
     "execution_count": 197,
     "metadata": {},
     "output_type": "execute_result"
    }
   ],
   "source": [
    "ticker.recommendations"
   ]
  },
  {
   "cell_type": "code",
   "execution_count": null,
   "metadata": {},
   "outputs": [
    {
     "data": {
      "text/html": [
       "<div>\n",
       "<style scoped>\n",
       "    .dataframe tbody tr th:only-of-type {\n",
       "        vertical-align: middle;\n",
       "    }\n",
       "\n",
       "    .dataframe tbody tr th {\n",
       "        vertical-align: top;\n",
       "    }\n",
       "\n",
       "    .dataframe thead th {\n",
       "        text-align: right;\n",
       "    }\n",
       "</style>\n",
       "<table border=\"1\" class=\"dataframe\">\n",
       "  <thead>\n",
       "    <tr style=\"text-align: right;\">\n",
       "      <th></th>\n",
       "      <th>esgScores</th>\n",
       "    </tr>\n",
       "  </thead>\n",
       "  <tbody>\n",
       "    <tr>\n",
       "      <th>maxAge</th>\n",
       "      <td>86400</td>\n",
       "    </tr>\n",
       "    <tr>\n",
       "      <th>totalEsg</th>\n",
       "      <td>16.79</td>\n",
       "    </tr>\n",
       "    <tr>\n",
       "      <th>environmentScore</th>\n",
       "      <td>0.55</td>\n",
       "    </tr>\n",
       "    <tr>\n",
       "      <th>socialScore</th>\n",
       "      <td>7.52</td>\n",
       "    </tr>\n",
       "    <tr>\n",
       "      <th>governanceScore</th>\n",
       "      <td>8.72</td>\n",
       "    </tr>\n",
       "    <tr>\n",
       "      <th>ratingYear</th>\n",
       "      <td>2024</td>\n",
       "    </tr>\n",
       "    <tr>\n",
       "      <th>ratingMonth</th>\n",
       "      <td>11</td>\n",
       "    </tr>\n",
       "    <tr>\n",
       "      <th>highestControversy</th>\n",
       "      <td>3.0</td>\n",
       "    </tr>\n",
       "    <tr>\n",
       "      <th>peerCount</th>\n",
       "      <td>238</td>\n",
       "    </tr>\n",
       "    <tr>\n",
       "      <th>esgPerformance</th>\n",
       "      <td>LAG_PERF</td>\n",
       "    </tr>\n",
       "    <tr>\n",
       "      <th>peerGroup</th>\n",
       "      <td>Technology Hardware</td>\n",
       "    </tr>\n",
       "    <tr>\n",
       "      <th>relatedControversy</th>\n",
       "      <td>[Customer Incidents;Social Supply Chain Incide...</td>\n",
       "    </tr>\n",
       "    <tr>\n",
       "      <th>peerEsgScorePerformance</th>\n",
       "      <td>{'min': 4.46, 'avg': 15.839243697478981, 'max'...</td>\n",
       "    </tr>\n",
       "    <tr>\n",
       "      <th>peerGovernancePerformance</th>\n",
       "      <td>{'min': 0.76, 'avg': 4.913255813953486, 'max':...</td>\n",
       "    </tr>\n",
       "    <tr>\n",
       "      <th>peerSocialPerformance</th>\n",
       "      <td>{'min': 1.4, 'avg': 5.26174418604651, 'max': 1...</td>\n",
       "    </tr>\n",
       "    <tr>\n",
       "      <th>peerEnvironmentPerformance</th>\n",
       "      <td>{'min': 0.17, 'avg': 3.148139534883721, 'max':...</td>\n",
       "    </tr>\n",
       "    <tr>\n",
       "      <th>peerHighestControversyPerformance</th>\n",
       "      <td>{'min': 0.0, 'avg': 0.5546218487394958, 'max':...</td>\n",
       "    </tr>\n",
       "    <tr>\n",
       "      <th>percentile</th>\n",
       "      <td>None</td>\n",
       "    </tr>\n",
       "    <tr>\n",
       "      <th>environmentPercentile</th>\n",
       "      <td>None</td>\n",
       "    </tr>\n",
       "    <tr>\n",
       "      <th>socialPercentile</th>\n",
       "      <td>None</td>\n",
       "    </tr>\n",
       "    <tr>\n",
       "      <th>governancePercentile</th>\n",
       "      <td>None</td>\n",
       "    </tr>\n",
       "    <tr>\n",
       "      <th>adult</th>\n",
       "      <td>False</td>\n",
       "    </tr>\n",
       "    <tr>\n",
       "      <th>alcoholic</th>\n",
       "      <td>False</td>\n",
       "    </tr>\n",
       "    <tr>\n",
       "      <th>animalTesting</th>\n",
       "      <td>False</td>\n",
       "    </tr>\n",
       "    <tr>\n",
       "      <th>catholic</th>\n",
       "      <td>None</td>\n",
       "    </tr>\n",
       "    <tr>\n",
       "      <th>controversialWeapons</th>\n",
       "      <td>False</td>\n",
       "    </tr>\n",
       "    <tr>\n",
       "      <th>smallArms</th>\n",
       "      <td>False</td>\n",
       "    </tr>\n",
       "    <tr>\n",
       "      <th>furLeather</th>\n",
       "      <td>False</td>\n",
       "    </tr>\n",
       "    <tr>\n",
       "      <th>gambling</th>\n",
       "      <td>False</td>\n",
       "    </tr>\n",
       "    <tr>\n",
       "      <th>gmo</th>\n",
       "      <td>False</td>\n",
       "    </tr>\n",
       "    <tr>\n",
       "      <th>militaryContract</th>\n",
       "      <td>False</td>\n",
       "    </tr>\n",
       "    <tr>\n",
       "      <th>nuclear</th>\n",
       "      <td>False</td>\n",
       "    </tr>\n",
       "    <tr>\n",
       "      <th>pesticides</th>\n",
       "      <td>False</td>\n",
       "    </tr>\n",
       "    <tr>\n",
       "      <th>palmOil</th>\n",
       "      <td>False</td>\n",
       "    </tr>\n",
       "    <tr>\n",
       "      <th>coal</th>\n",
       "      <td>False</td>\n",
       "    </tr>\n",
       "    <tr>\n",
       "      <th>tobacco</th>\n",
       "      <td>False</td>\n",
       "    </tr>\n",
       "  </tbody>\n",
       "</table>\n",
       "</div>"
      ],
      "text/plain": [
       "                                                                           esgScores\n",
       "maxAge                                                                         86400\n",
       "totalEsg                                                                       16.79\n",
       "environmentScore                                                                0.55\n",
       "socialScore                                                                     7.52\n",
       "governanceScore                                                                 8.72\n",
       "ratingYear                                                                      2024\n",
       "ratingMonth                                                                       11\n",
       "highestControversy                                                               3.0\n",
       "peerCount                                                                        238\n",
       "esgPerformance                                                              LAG_PERF\n",
       "peerGroup                                                        Technology Hardware\n",
       "relatedControversy                 [Customer Incidents;Social Supply Chain Incide...\n",
       "peerEsgScorePerformance            {'min': 4.46, 'avg': 15.839243697478981, 'max'...\n",
       "peerGovernancePerformance          {'min': 0.76, 'avg': 4.913255813953486, 'max':...\n",
       "peerSocialPerformance              {'min': 1.4, 'avg': 5.26174418604651, 'max': 1...\n",
       "peerEnvironmentPerformance         {'min': 0.17, 'avg': 3.148139534883721, 'max':...\n",
       "peerHighestControversyPerformance  {'min': 0.0, 'avg': 0.5546218487394958, 'max':...\n",
       "percentile                                                                      None\n",
       "environmentPercentile                                                           None\n",
       "socialPercentile                                                                None\n",
       "governancePercentile                                                            None\n",
       "adult                                                                          False\n",
       "alcoholic                                                                      False\n",
       "animalTesting                                                                  False\n",
       "catholic                                                                        None\n",
       "controversialWeapons                                                           False\n",
       "smallArms                                                                      False\n",
       "furLeather                                                                     False\n",
       "gambling                                                                       False\n",
       "gmo                                                                            False\n",
       "militaryContract                                                               False\n",
       "nuclear                                                                        False\n",
       "pesticides                                                                     False\n",
       "palmOil                                                                        False\n",
       "coal                                                                           False\n",
       "tobacco                                                                        False"
      ]
     },
     "execution_count": 198,
     "metadata": {},
     "output_type": "execute_result"
    }
   ],
   "source": [
    "ticker.sustainability"
   ]
  }
 ],
 "metadata": {
  "kernelspec": {
   "display_name": "Python 3",
   "language": "python",
   "name": "python3"
  },
  "language_info": {
   "codemirror_mode": {
    "name": "ipython",
    "version": 3
   },
   "file_extension": ".py",
   "mimetype": "text/x-python",
   "name": "python",
   "nbconvert_exporter": "python",
   "pygments_lexer": "ipython3",
   "version": "3.11.3"
  }
 },
 "nbformat": 4,
 "nbformat_minor": 2
}
